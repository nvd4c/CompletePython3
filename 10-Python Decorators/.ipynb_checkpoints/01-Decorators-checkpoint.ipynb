{
 "cells": [
  {
   "cell_type": "markdown",
   "metadata": {},
   "source": [
    "___\n",
    "\n",
    "<a href='https://www.udemy.com/user/joseportilla/'><img src='../Pierian_Data_Logo.png'/></a>\n",
    "___\n",
    "<center><em>Content Copyright by Pierian Data</em></center>"
   ]
  },
  {
   "cell_type": "markdown",
   "metadata": {},
   "source": [
    "# Decorators\n",
    "\n",
    "Decorator có thể được coi là những chức năng sửa đổi *functionality* của một function khác. Chúng giúp làm cho mã của bạn ngắn hơn và \"Pythonic\" hơn.\n",
    "\n",
    "Để giải thích đúng cách decorators, chúng ta sẽ từ từ xây dựng từ các function. Đảm bảo chạy mọi ô trong Notebook này để bài giảng này trông giống nhau trên máy tính của bạn. <br> <br> Vì vậy, hãy chia nhỏ các bước:\n",
    "\n",
    "## Functions Review"
   ]
  },
  {
   "cell_type": "code",
   "execution_count": 1,
   "metadata": {},
   "outputs": [],
   "source": [
    "def func():\n",
    "    return 1"
   ]
  },
  {
   "cell_type": "code",
   "execution_count": 2,
   "metadata": {},
   "outputs": [
    {
     "data": {
      "text/plain": [
       "1"
      ]
     },
     "execution_count": 2,
     "metadata": {},
     "output_type": "execute_result"
    }
   ],
   "source": [
    "func()"
   ]
  },
  {
   "cell_type": "markdown",
   "metadata": {},
   "source": [
    "## Scope Review\n",
    "Hãy nhớ từ bài giảng các câu lệnh lồng nhau rằng Python sử dụng Phạm vi để biết nhãn đang đề cập đến điều gì. Ví dụ:"
   ]
  },
  {
   "cell_type": "code",
   "execution_count": 6,
   "metadata": {},
   "outputs": [],
   "source": [
    "s = 'Global Variable'\n",
    "\n",
    "def check_for_locals():\n",
    "    print(locals())"
   ]
  },
  {
   "cell_type": "markdown",
   "metadata": {},
   "source": [
    "Hãy nhớ rằng các hàm Python tạo ra một phạm vi mới, nghĩa là hàm có không gian tên riêng để tìm các tên biến khi chúng được đề cập trong hàm. Chúng ta có thể kiểm tra các biến cục bộ và các biến toàn cục bằng các hàm <code> local () </code> và <code> Gloals () </code>. Ví dụ:"
   ]
  },
  {
   "cell_type": "code",
   "execution_count": 7,
   "metadata": {},
   "outputs": [
    {
     "name": "stdout",
     "output_type": "stream",
     "text": [
      "{'__name__': '__main__', '__doc__': 'Automatically created module for IPython interactive environment', '__package__': None, '__loader__': None, '__spec__': None, '__builtin__': <module 'builtins' (built-in)>, '__builtins__': <module 'builtins' (built-in)>, '_ih': ['', 'def func():\\n    return 1', 'func()', \"s = 'Global Variable'\\n\\ndef check_for_locals():\\n    print(locals())\", \"s = 'Global Variable'\\n\\ndef check_for_locals():\\n    print(locals())\", 'print(globals())', \"s = 'Global Variable'\\n\\ndef check_for_locals():\\n    print(locals())\", 'print(globals())'], '_oh': {2: 1}, '_dh': ['C:\\\\Users\\\\Admin\\\\Desktop\\\\Complete-Python-3-Bootcamp\\\\10-Python Decorators'], 'In': ['', 'def func():\\n    return 1', 'func()', \"s = 'Global Variable'\\n\\ndef check_for_locals():\\n    print(locals())\", \"s = 'Global Variable'\\n\\ndef check_for_locals():\\n    print(locals())\", 'print(globals())', \"s = 'Global Variable'\\n\\ndef check_for_locals():\\n    print(locals())\", 'print(globals())'], 'Out': {2: 1}, 'get_ipython': <bound method InteractiveShell.get_ipython of <ipykernel.zmqshell.ZMQInteractiveShell object at 0x000001A037965880>>, 'exit': <IPython.core.autocall.ZMQExitAutocall object at 0x000001A0379D6580>, 'quit': <IPython.core.autocall.ZMQExitAutocall object at 0x000001A0379D6580>, '_': 1, '__': '', '___': '', '_i': \"s = 'Global Variable'\\n\\ndef check_for_locals():\\n    print(locals())\", '_ii': 'print(globals())', '_iii': \"s = 'Global Variable'\\n\\ndef check_for_locals():\\n    print(locals())\", '_i1': 'def func():\\n    return 1', 'func': <function func at 0x000001A037A08790>, '_i2': 'func()', '_2': 1, '_i3': \"s = 'Global Variable'\\n\\ndef check_for_locals():\\n    print(locals())\", 's': 'Global Variable', 'check_for_locals': <function check_for_locals at 0x000001A037A08E50>, '_i4': \"s = 'Global Variable'\\n\\ndef check_for_locals():\\n    print(locals())\", '_i5': 'print(globals())', '_i6': \"s = 'Global Variable'\\n\\ndef check_for_locals():\\n    print(locals())\", '_i7': 'print(globals())'}\n"
     ]
    }
   ],
   "source": [
    "print(globals())"
   ]
  },
  {
   "cell_type": "markdown",
   "metadata": {
    "collapsed": true
   },
   "source": [
    "Ở đây chúng tôi lấy lại một dictionary của tất cả các biến global, nhiều biến trong số chúng được xác định trước bằng Python. Vì vậy, chúng ta hãy tiếp tục và xem xét các key:"
   ]
  },
  {
   "cell_type": "code",
   "execution_count": 8,
   "metadata": {},
   "outputs": [
    {
     "name": "stdout",
     "output_type": "stream",
     "text": [
      "dict_keys(['__name__', '__doc__', '__package__', '__loader__', '__spec__', '__builtin__', '__builtins__', '_ih', '_oh', '_dh', 'In', 'Out', 'get_ipython', 'exit', 'quit', '_', '__', '___', '_i', '_ii', '_iii', '_i1', 'func', '_i2', '_2', '_i3', 's', 'check_for_locals', '_i4', '_i5', '_i6', '_i7', '_i8'])\n"
     ]
    }
   ],
   "source": [
    "print(globals().keys())"
   ]
  },
  {
   "cell_type": "markdown",
   "metadata": {},
   "source": [
    "Lưu ý rằng ** s ** ở đó như thế nào, Biến toàn cục mà chúng tôi đã xác định là một chuỗi:"
   ]
  },
  {
   "cell_type": "code",
   "execution_count": 10,
   "metadata": {},
   "outputs": [
    {
     "data": {
      "text/plain": [
       "'Global Variable'"
      ]
     },
     "execution_count": 10,
     "metadata": {},
     "output_type": "execute_result"
    }
   ],
   "source": [
    "globals()['s']"
   ]
  },
  {
   "cell_type": "markdown",
   "metadata": {},
   "source": [
    "Bây giờ, hãy chạy hàm của chúng ta để kiểm tra các biến cục bộ có thể tồn tại bên trong hàm của chúng ta (không nên có bất kỳ biến nào)"
   ]
  },
  {
   "cell_type": "code",
   "execution_count": 11,
   "metadata": {},
   "outputs": [
    {
     "name": "stdout",
     "output_type": "stream",
     "text": [
      "{}\n"
     ]
    }
   ],
   "source": [
    "check_for_locals()"
   ]
  },
  {
   "cell_type": "markdown",
   "metadata": {},
   "source": [
    "Tuyệt vời! Bây giờ chúng ta hãy tiếp tục xây dựng logic của một decorator. Hãy nhớ rằng trong Python ** mọi thứ đều là một đối tượng **. Điều đó có nghĩa là các hàm là các đối tượng có thể được gán nhãn và chuyển vào các hàm khác. Hãy bắt đầu với một số ví dụ đơn giản:"
   ]
  },
  {
   "cell_type": "code",
   "execution_count": 12,
   "metadata": {},
   "outputs": [],
   "source": [
    "def hello(name='Jose'):\n",
    "    return 'Hello '+name"
   ]
  },
  {
   "cell_type": "code",
   "execution_count": 13,
   "metadata": {},
   "outputs": [
    {
     "data": {
      "text/plain": [
       "'Hello Jose'"
      ]
     },
     "execution_count": 13,
     "metadata": {},
     "output_type": "execute_result"
    }
   ],
   "source": [
    "hello()"
   ]
  },
  {
   "cell_type": "markdown",
   "metadata": {},
   "source": [
    "Gán một nhãn khác cho hàm. Lưu ý rằng chúng ta không sử dụng dấu ngoặc đơn ở đây vì chúng ta không gọi hàm ** hello **, thay vào đó chúng ta chỉ truyền một đối tượng hàm vào biến ** greet **."
   ]
  },
  {
   "cell_type": "code",
   "execution_count": 14,
   "metadata": {},
   "outputs": [],
   "source": [
    "greet = hello"
   ]
  },
  {
   "cell_type": "code",
   "execution_count": 15,
   "metadata": {},
   "outputs": [
    {
     "data": {
      "text/plain": [
       "<function __main__.hello(name='Jose')>"
      ]
     },
     "execution_count": 15,
     "metadata": {},
     "output_type": "execute_result"
    }
   ],
   "source": [
    "greet"
   ]
  },
  {
   "cell_type": "code",
   "execution_count": 16,
   "metadata": {},
   "outputs": [
    {
     "data": {
      "text/plain": [
       "'Hello Jose'"
      ]
     },
     "execution_count": 16,
     "metadata": {},
     "output_type": "execute_result"
    }
   ],
   "source": [
    "greet()"
   ]
  },
  {
   "cell_type": "markdown",
   "metadata": {},
   "source": [
    "So what happens when we delete the name **hello**?"
   ]
  },
  {
   "cell_type": "code",
   "execution_count": 17,
   "metadata": {},
   "outputs": [],
   "source": [
    "del hello"
   ]
  },
  {
   "cell_type": "code",
   "execution_count": 18,
   "metadata": {},
   "outputs": [
    {
     "ename": "NameError",
     "evalue": "name 'hello' is not defined",
     "output_type": "error",
     "traceback": [
      "\u001b[1;31m---------------------------------------------------------------------------\u001b[0m",
      "\u001b[1;31mNameError\u001b[0m                                 Traceback (most recent call last)",
      "\u001b[1;32m<ipython-input-18-a75d7781aaeb>\u001b[0m in \u001b[0;36m<module>\u001b[1;34m\u001b[0m\n\u001b[1;32m----> 1\u001b[1;33m \u001b[0mhello\u001b[0m\u001b[1;33m(\u001b[0m\u001b[1;33m)\u001b[0m\u001b[1;33m\u001b[0m\u001b[1;33m\u001b[0m\u001b[0m\n\u001b[0m",
      "\u001b[1;31mNameError\u001b[0m: name 'hello' is not defined"
     ]
    }
   ],
   "source": [
    "hello()"
   ]
  },
  {
   "cell_type": "code",
   "execution_count": 19,
   "metadata": {},
   "outputs": [
    {
     "data": {
      "text/plain": [
       "'Hello Jose'"
      ]
     },
     "execution_count": 19,
     "metadata": {},
     "output_type": "execute_result"
    }
   ],
   "source": [
    "greet()"
   ]
  },
  {
   "cell_type": "markdown",
   "metadata": {},
   "source": [
    "Mặc dù chúng tôi đã xóa tên ** hello **, tên ** greet ** * vẫn trỏ đến * đối tượng hàm ban đầu của chúng tôi. Điều quan trọng cần biết là các hàm là các đối tượng có thể được truyền cho các đối tượng khác!"
   ]
  },
  {
   "cell_type": "markdown",
   "metadata": {},
   "source": [
    "## Functions within functions\n",
    "Tuyệt vời! Vì vậy, chúng ta đã thấy cách chúng ta có thể coi các hàm như các đối tượng, bây giờ hãy xem cách chúng ta có thể định nghĩa các hàm bên trong các hàm khác:"
   ]
  },
  {
   "cell_type": "code",
   "execution_count": 21,
   "metadata": {},
   "outputs": [],
   "source": [
    "def hello(name='Jose'):\n",
    "    print('The hello() function has been executed')\n",
    "    \n",
    "    def greet():\n",
    "        return '\\t This is inside the greet() function'\n",
    "    \n",
    "    def welcome():\n",
    "        return \"\\t This is inside the welcome() function\"\n",
    "    \n",
    "    print(greet())\n",
    "    print(welcome())\n",
    "    print(\"Now we are back inside the hello() function\")"
   ]
  },
  {
   "cell_type": "code",
   "execution_count": 22,
   "metadata": {},
   "outputs": [
    {
     "name": "stdout",
     "output_type": "stream",
     "text": [
      "The hello() function has been executed\n",
      "\t This is inside the greet() function\n",
      "\t This is inside the welcome() function\n",
      "Now we are back inside the hello() function\n"
     ]
    }
   ],
   "source": [
    "hello()"
   ]
  },
  {
   "cell_type": "code",
   "execution_count": 13,
   "metadata": {},
   "outputs": [
    {
     "ename": "NameError",
     "evalue": "name 'welcome' is not defined",
     "output_type": "error",
     "traceback": [
      "\u001b[1;31m---------------------------------------------------------------------------\u001b[0m",
      "\u001b[1;31mNameError\u001b[0m                                 Traceback (most recent call last)",
      "\u001b[1;32m<ipython-input-13-a401d7101853>\u001b[0m in \u001b[0;36m<module>\u001b[1;34m()\u001b[0m\n\u001b[1;32m----> 1\u001b[1;33m \u001b[0mwelcome\u001b[0m\u001b[1;33m(\u001b[0m\u001b[1;33m)\u001b[0m\u001b[1;33m\u001b[0m\u001b[0m\n\u001b[0m",
      "\u001b[1;31mNameError\u001b[0m: name 'welcome' is not defined"
     ]
    }
   ],
   "source": [
    "welcome()"
   ]
  },
  {
   "cell_type": "markdown",
   "metadata": {},
   "source": [
    "Lưu ý rằng do phạm vi, hàm welcome () không được định nghĩa bên ngoài hàm hello (). Bây giờ chúng ta hãy tìm hiểu về các hàm trả về từ bên trong các hàm:\n",
    "## Returning Functions"
   ]
  },
  {
   "cell_type": "code",
   "execution_count": 23,
   "metadata": {},
   "outputs": [],
   "source": [
    "def hello(name='Jose'):\n",
    "    \n",
    "    def greet():\n",
    "        return '\\t This is inside the greet() function'\n",
    "    \n",
    "    def welcome():\n",
    "        return \"\\t This is inside the welcome() function\"\n",
    "    \n",
    "    if name == 'Jose':\n",
    "        return greet\n",
    "    else:\n",
    "        return welcome"
   ]
  },
  {
   "cell_type": "markdown",
   "metadata": {},
   "source": [
    "Bây giờ chúng ta hãy xem hàm nào được trả về nếu chúng ta đặt x = hello (), lưu ý cách dấu ngoặc đơn trống có nghĩa là tên đó đã được định nghĩa là Jose."
   ]
  },
  {
   "cell_type": "code",
   "execution_count": 24,
   "metadata": {},
   "outputs": [],
   "source": [
    "x = hello()"
   ]
  },
  {
   "cell_type": "code",
   "execution_count": 25,
   "metadata": {},
   "outputs": [
    {
     "data": {
      "text/plain": [
       "<function __main__.hello.<locals>.greet()>"
      ]
     },
     "execution_count": 25,
     "metadata": {},
     "output_type": "execute_result"
    }
   ],
   "source": [
    "x"
   ]
  },
  {
   "cell_type": "markdown",
   "metadata": {},
   "source": [
    "Tuyệt vời! Bây giờ chúng ta có thể thấy cách x trỏ đến hàm greet bên trong hàm hello."
   ]
  },
  {
   "cell_type": "code",
   "execution_count": 26,
   "metadata": {},
   "outputs": [
    {
     "name": "stdout",
     "output_type": "stream",
     "text": [
      "\t This is inside the greet() function\n"
     ]
    }
   ],
   "source": [
    "print(x())"
   ]
  },
  {
   "cell_type": "markdown",
   "metadata": {},
   "source": [
    "Chúng ta hãy xem nhanh mã một lần nữa.\n",
    "\n",
    "Trong mệnh đề <code> if </code> / <code> else </code>, chúng ta trả về <code> greet </code> và <code> welcome </code>, không phải <code> greet() </code> và <code> welcome() </code>.\n",
    "\n",
    "Điều này là do khi bạn đặt một cặp dấu ngoặc đơn sau nó, hàm sẽ được thực thi; trong khi nếu bạn không đặt dấu ngoặc đơn sau nó, thì nó có thể được chuyển xung quanh và có thể được gán cho các biến khác mà không cần thực thi nó.\n",
    "\n",
    "Khi chúng ta viết <code> x = hello () </code>, hello () được thực thi và vì tên là Jose theo mặc định, hàm <code> greet </code> được trả về. Nếu chúng ta thay đổi câu lệnh thành <code> x = hello (name = \"Sam\") </code> thì hàm <code> welcome </code> sẽ được trả về. Chúng ta cũng có thể thực hiện <code> print (hello()()) </code> mà kết quả đầu ra * Đây là bên trong hàm greet () *."
   ]
  },
  {
   "cell_type": "code",
   "execution_count": 30,
   "metadata": {},
   "outputs": [
    {
     "name": "stdout",
     "output_type": "stream",
     "text": [
      "\t This is inside the greet() function\n"
     ]
    }
   ],
   "source": [
    "print (hello()())"
   ]
  },
  {
   "cell_type": "markdown",
   "metadata": {},
   "source": [
    "## Functions as Arguments\n",
    "Bây giờ chúng ta hãy xem cách chúng ta có thể truyền các hàm dưới dạng đối số vào các hàm khác:"
   ]
  },
  {
   "cell_type": "code",
   "execution_count": 39,
   "metadata": {},
   "outputs": [],
   "source": [
    "def hello():\n",
    "    return 'Hi Jose!'\n",
    "\n",
    "def other(ham):\n",
    "    print('Other code would go here')\n",
    "    print(ham())"
   ]
  },
  {
   "cell_type": "code",
   "execution_count": 40,
   "metadata": {},
   "outputs": [
    {
     "name": "stdout",
     "output_type": "stream",
     "text": [
      "Other code would go here\n",
      "Hi Jose!\n"
     ]
    }
   ],
   "source": [
    "other(hello)"
   ]
  },
  {
   "cell_type": "markdown",
   "metadata": {},
   "source": [
    "Tuyệt vời! Lưu ý cách chúng ta có thể chuyển các hàm dưới dạng đối tượng và sau đó sử dụng chúng trong các hàm khác. Bây giờ chúng ta có thể bắt đầu với việc viết trình decorator đầu tiên của mình:"
   ]
  },
  {
   "cell_type": "markdown",
   "metadata": {},
   "source": [
    "## Creating a Decorator\n",
    "Trong ví dụ trước, chúng tôi đã thực sự tạo Decorator theo cách thủ công. Ở đây chúng tôi sẽ sửa đổi nó để làm cho trường hợp sử dụng của nó rõ ràng:"
   ]
  },
  {
   "cell_type": "code",
   "execution_count": 41,
   "metadata": {},
   "outputs": [],
   "source": [
    "def new_decorator(func):\n",
    "\n",
    "    def wrap_func():\n",
    "        print(\"Code would be here, before executing the func\")\n",
    "\n",
    "        func()\n",
    "\n",
    "        print(\"Code here will execute after the func()\")\n",
    "\n",
    "    return wrap_func\n",
    "\n",
    "def func_needs_decorator():\n",
    "    print(\"This function is in need of a Decorator\")"
   ]
  },
  {
   "cell_type": "code",
   "execution_count": 42,
   "metadata": {},
   "outputs": [
    {
     "name": "stdout",
     "output_type": "stream",
     "text": [
      "This function is in need of a Decorator\n"
     ]
    }
   ],
   "source": [
    "func_needs_decorator()"
   ]
  },
  {
   "cell_type": "code",
   "execution_count": 43,
   "metadata": {},
   "outputs": [],
   "source": [
    "# Chỉ định lại func_needs_decorator\n",
    "func_needs_decorator = new_decorator(func_needs_decorator)"
   ]
  },
  {
   "cell_type": "code",
   "execution_count": 44,
   "metadata": {},
   "outputs": [
    {
     "name": "stdout",
     "output_type": "stream",
     "text": [
      "Code would be here, before executing the func\n",
      "This function is in need of a Decorator\n",
      "Code here will execute after the func()\n"
     ]
    }
   ],
   "source": [
    "func_needs_decorator()"
   ]
  },
  {
   "cell_type": "markdown",
   "metadata": {},
   "source": [
    "Vậy điều gì vừa xảy ra ở đây? A decorator chỉ cần gói chức năng và sửa đổi hành vi của nó. Bây giờ chúng ta hãy hiểu cách chúng ta có thể viết lại mã này bằng cách sử dụng ký hiệu @, đó là những gì Python sử dụng cho Decorators:"
   ]
  },
  {
   "cell_type": "code",
   "execution_count": 45,
   "metadata": {},
   "outputs": [],
   "source": [
    "@new_decorator\n",
    "def func_needs_decorator():\n",
    "    print(\"This function is in need of a Decorator\")"
   ]
  },
  {
   "cell_type": "code",
   "execution_count": 46,
   "metadata": {},
   "outputs": [
    {
     "name": "stdout",
     "output_type": "stream",
     "text": [
      "Code would be here, before executing the func\n",
      "This function is in need of a Decorator\n",
      "Code here will execute after the func()\n"
     ]
    }
   ],
   "source": [
    "func_needs_decorator()"
   ]
  },
  {
   "cell_type": "markdown",
   "metadata": {},
   "source": [
    "**Tuyệt vời! Bây giờ bạn đã tạo một Decorators theo cách thủ công và sau đó xem cách chúng tôi có thể sử dụng ký hiệu @ trong Python để tự động hóa việc này và làm sạch mã của chúng tôi. Bạn sẽ gặp phải rất nhiều trang trí nếu bạn bắt đầu sử dụng Python để phát triển web, chẳng hạn như Flask hoặc Django! **"
   ]
  }
 ],
 "metadata": {
  "kernelspec": {
   "display_name": "Python 3",
   "language": "python",
   "name": "python3"
  },
  "language_info": {
   "codemirror_mode": {
    "name": "ipython",
    "version": 3
   },
   "file_extension": ".py",
   "mimetype": "text/x-python",
   "name": "python",
   "nbconvert_exporter": "python",
   "pygments_lexer": "ipython3",
   "version": "3.8.5"
  }
 },
 "nbformat": 4,
 "nbformat_minor": 1
}
