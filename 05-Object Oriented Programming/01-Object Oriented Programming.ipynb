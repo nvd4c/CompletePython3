{
 "cells": [
  {
   "cell_type": "markdown",
   "metadata": {},
   "source": [
    "___\n",
    "\n",
    "<a href='https://www.udemy.com/user/joseportilla/'><img src='../Pierian_Data_Logo.png'/></a>\n",
    "___\n",
    "<center><em>Content Copyright by Pierian Data</em></center>"
   ]
  },
  {
   "cell_type": "markdown",
   "metadata": {
    "collapsed": true
   },
   "source": [
    "# Object Oriented Programming\n",
    "\n",
    "\n",
    "* Objects\n",
    "* Using the *class* keyword\n",
    "* Creating class attributes\n",
    "* Creating methods in a class\n",
    "* Learning about Inheritance - kế thừa\n",
    "* Learning about Polymorphism  - đa hình\n",
    "* Learning about Special Methods for classes -Tìm hiểu về các phương thức đặc biệt cho class\n",
    "\n",
    "Lets start the lesson by remembering about the Basic Python Objects. For example:"
   ]
  },
  {
   "cell_type": "code",
   "execution_count": 1,
   "metadata": {
    "collapsed": true
   },
   "outputs": [],
   "source": [
    "lst = [1,2,3]"
   ]
  },
  {
   "cell_type": "markdown",
   "metadata": {},
   "source": [
    "Remember how we could call methods on a list?"
   ]
  },
  {
   "cell_type": "code",
   "execution_count": 2,
   "metadata": {},
   "outputs": [
    {
     "data": {
      "text/plain": [
       "1"
      ]
     },
     "execution_count": 2,
     "metadata": {},
     "output_type": "execute_result"
    }
   ],
   "source": [
    "lst.count(2)"
   ]
  },
  {
   "cell_type": "markdown",
   "metadata": {},
   "source": [
    "## Objects\n",
    "Trong Python, * mọi thứ đều là một đối tượng *. Hãy nhớ từ các bài giảng trước, chúng ta có thể sử dụng type () để kiểm tra loại đối tượng là:"
   ]
  },
  {
   "cell_type": "code",
   "execution_count": 3,
   "metadata": {},
   "outputs": [
    {
     "name": "stdout",
     "output_type": "stream",
     "text": [
      "<class 'int'>\n",
      "<class 'list'>\n",
      "<class 'tuple'>\n",
      "<class 'dict'>\n"
     ]
    }
   ],
   "source": [
    "print(type(1))\n",
    "print(type([]))\n",
    "print(type(()))\n",
    "print(type({}))"
   ]
  },
  {
   "cell_type": "markdown",
   "metadata": {},
   "source": [
    "Vì vậy, chúng ta biết tất cả những thứ này là các đối tượng, vậy làm thế nào chúng ta có thể tạo các loại Đối tượng của riêng mình? Đó là nơi xuất hiện từ khóa <code> class </code>.\n",
    "## class\n",
    "\n",
    "Các đối tượng do người dùng xác định được tạo bằng từ khóa <code> class </code>. Class là một bản thiết kế xác định bản chất của một đối tượng trong tương lai. Từ các lớp, chúng ta có thể xây dựng các thể hiện (instances). Một cá thể là một đối tượng cụ thể được tạo ra từ một lớp cụ thể. Ví dụ, ở trên chúng ta đã tạo đối tượng <code> lst </code> là một thể hiện của đối tượng danh sách.\n",
    "\n",
    "Let see how we can use <code>class</code>:"
   ]
  },
  {
   "cell_type": "code",
   "execution_count": 4,
   "metadata": {},
   "outputs": [
    {
     "name": "stdout",
     "output_type": "stream",
     "text": [
      "<class '__main__.Sample'>\n"
     ]
    }
   ],
   "source": [
    "# Create a new object type called Sample\n",
    "class Sample:\n",
    "    pass\n",
    "\n",
    "# Instance of Sample\n",
    "x = Sample()\n",
    "\n",
    "print(type(x))"
   ]
  },
  {
   "cell_type": "markdown",
   "metadata": {},
   "source": [
    "Theo quy ước, chúng tôi đặt tên cho các lớp bắt đầu bằng một chữ cái viết hoa. Lưu ý rằng <code> x </code> hiện là tham chiếu đến phiên bản(thể hiện hoặc instances) mới của lớp Sample. Nói cách khác, chúng ta ** khởi tạo ** lớp Mẫu.\n",
    "\n",
    "Bên trong lớp chúng tôi hiện chỉ có thẻ vượt qua. Nhưng chúng ta có thể xác định các thuộc tính và phương thức của lớp.\n",
    "\n",
    "Chúng ta hãy hiểu rõ hơn về các thuộc tính thông qua một ví dụ.\n",
    "\n",
    "## Attributes\n",
    "Cú pháp để tạo một thuộc tính là:\n",
    "    \n",
    "    self.attribute = something\n",
    "    \n",
    "There is a special method called:\n",
    "\n",
    "    __init__()\n",
    "\n",
    "This method is used to initialize the attributes of an object. For example:\n",
    "\n",
    "Phương thức này được sử dụng để khởi tạo các thuộc tính của một đối tượng. Ví dụ:"
   ]
  },
  {
   "cell_type": "code",
   "execution_count": 5,
   "metadata": {
    "collapsed": true
   },
   "outputs": [],
   "source": [
    "class Dog:\n",
    "    def __init__(self,breed):\n",
    "        self.breed = breed\n",
    "        \n",
    "sam = Dog(breed='Lab')\n",
    "frank = Dog(breed='Huskie')"
   ]
  },
  {
   "cell_type": "markdown",
   "metadata": {},
   "source": [
    "Hãy chia nhỏ những gì chúng ta có ở trên.\n",
    "\n",
    "    __init__() \n",
    "được gọi tự động ngay sau khi đối tượng đã được tạo:\n",
    "\n",
    "    def __init__(self, breed):\n",
    "\n",
    "Mỗi thuộc tính trong định nghĩa lớp bắt đầu bằng một tham chiếu đến đối tượng cá thể. Nó được đặt tên theo quy ước. Giống là một đối số. Giá trị được chuyển trong quá trình khởi tạo lớp.\n",
    "\n",
    "     self.breed = breed"
   ]
  },
  {
   "cell_type": "markdown",
   "metadata": {},
   "source": [
    "Bây giờ chúng ta đã tạo hai phiên bản của lớp Dog. Với hai loại giống, sau đó chúng ta có thể truy cập các thuộc tính này như sau:"
   ]
  },
  {
   "cell_type": "code",
   "execution_count": 6,
   "metadata": {},
   "outputs": [
    {
     "data": {
      "text/plain": [
       "'Lab'"
      ]
     },
     "execution_count": 6,
     "metadata": {},
     "output_type": "execute_result"
    }
   ],
   "source": [
    "sam.breed"
   ]
  },
  {
   "cell_type": "code",
   "execution_count": 7,
   "metadata": {},
   "outputs": [
    {
     "data": {
      "text/plain": [
       "'Huskie'"
      ]
     },
     "execution_count": 7,
     "metadata": {},
     "output_type": "execute_result"
    }
   ],
   "source": [
    "frank.breed"
   ]
  },
  {
   "cell_type": "markdown",
   "metadata": {},
   "source": [
    "Lưu ý rằng chúng ta không có bất kỳ dấu ngoặc đơn nào sau breed( loài, giống); điều này là do nó là một thuộc tính và không nhận bất kỳ đối số nào.\n",
    "\n",
    "Trong Python cũng có * thuộc tính đối tượng lớp *. Các thuộc tính đối tượng lớp này giống nhau đối với bất kỳ trường hợp nào của lớp. Ví dụ: chúng ta có thể tạo thuộc tính * loài * cho lớp Chó. Chó, bất kể giống, tên hoặc các thuộc tính khác của chúng, sẽ luôn là động vật có vú. Chúng tôi áp dụng logic này theo cách sau:"
   ]
  },
  {
   "cell_type": "code",
   "execution_count": 8,
   "metadata": {
    "collapsed": true
   },
   "outputs": [],
   "source": [
    "class Dog:\n",
    "    \n",
    "    # Class Object Attribute\n",
    "    species = 'mammal'\n",
    "    \n",
    "    def __init__(self,breed,name):\n",
    "        self.breed = breed\n",
    "        self.name = name"
   ]
  },
  {
   "cell_type": "code",
   "execution_count": 9,
   "metadata": {
    "collapsed": true
   },
   "outputs": [],
   "source": [
    "sam = Dog('Lab','Sam')"
   ]
  },
  {
   "cell_type": "code",
   "execution_count": 10,
   "metadata": {},
   "outputs": [
    {
     "data": {
      "text/plain": [
       "'Sam'"
      ]
     },
     "execution_count": 10,
     "metadata": {},
     "output_type": "execute_result"
    }
   ],
   "source": [
    "sam.name"
   ]
  },
  {
   "cell_type": "markdown",
   "metadata": {},
   "source": [
    "Lưu ý rằng Thuộc tính Đối tượng Lớp được định nghĩa bên ngoài bất kỳ phương thức nào trong lớp. Cũng theo quy ước, chúng tôi đặt chúng đầu tiên trước init."
   ]
  },
  {
   "cell_type": "code",
   "execution_count": 11,
   "metadata": {},
   "outputs": [
    {
     "data": {
      "text/plain": [
       "'mammal'"
      ]
     },
     "execution_count": 11,
     "metadata": {},
     "output_type": "execute_result"
    }
   ],
   "source": [
    "sam.species"
   ]
  },
  {
   "cell_type": "markdown",
   "metadata": {},
   "source": [
    "## Methods\n",
    "\n",
    "Về cơ bản, bạn có thể nghĩ về các phương thức như là các hàm hoạt động trên một Đối tượng có tính đến chính Đối tượng thông qua đối số * self * của nó.\n",
    "\n",
    "Hãy xem qua một ví dụ về việc tạo một lớp Circle:"
   ]
  },
  {
   "cell_type": "code",
   "execution_count": 1,
   "metadata": {},
   "outputs": [
    {
     "name": "stdout",
     "output_type": "stream",
     "text": [
      "Radius is:  1\n",
      "Area is:  3.14\n",
      "Circumference is:  6.28\n"
     ]
    }
   ],
   "source": [
    "class Circle:\n",
    "    pi = 3.14\n",
    "\n",
    "    # Circle gets instantiated with a radius (default is 1)\n",
    "    def __init__(self, radius=1):\n",
    "        self.radius = radius \n",
    "        self.area = radius * radius * Circle.pi\n",
    "\n",
    "    # Method for resetting Radius\n",
    "    def setRadius(self, new_radius):\n",
    "        self.radius = new_radius\n",
    "        self.area = new_radius * new_radius * self.pi\n",
    "\n",
    "    # Method for getting Circumference- Đường tròn  \n",
    "    def getCircumference(self):\n",
    "        return self.radius * self.pi * 2\n",
    "\n",
    "\n",
    "c = Circle()\n",
    "\n",
    "print('Radius is: ',c.radius)\n",
    "print('Area is: ',c.area)\n",
    "print('Circumference is: ',c.getCircumference())"
   ]
  },
  {
   "cell_type": "markdown",
   "metadata": {},
   "source": [
    "Trong phương thức _init_ ở trên, để tính toán thuộc tính diện tích, chúng ta phải gọi Circle.pi. Điều này là do đối tượng chưa có thuộc tính .pi của riêng nó, vì vậy chúng tôi gọi là Thuộc tính đối tượng lớp pi để thay thế.\n",
    "Tuy nhiên, trong phương thức setRadius, chúng ta sẽ làm việc với một đối tượng Circle hiện có có thuộc tính pi riêng của nó. Ở đây chúng ta có thể sử dụng Circle.pi hoặc self.pi.\n",
    "\n",
    "Bây giờ hãy thay đổi bán kính và xem điều đó ảnh hưởng đến đối tượng Circle của chúng ta như thế nào:"
   ]
  },
  {
   "cell_type": "code",
   "execution_count": 13,
   "metadata": {},
   "outputs": [
    {
     "name": "stdout",
     "output_type": "stream",
     "text": [
      "Radius is:  2\n",
      "Area is:  12.56\n",
      "Circumference is:  12.56\n"
     ]
    }
   ],
   "source": [
    "c.setRadius(2)\n",
    "\n",
    "print('Radius is: ',c.radius)\n",
    "print('Area is: ',c.area)\n",
    "print('Circumference is: ',c.getCircumference())"
   ]
  },
  {
   "cell_type": "markdown",
   "metadata": {},
   "source": [
    "Tuyệt vời! Lưu ý cách chúng tôi sử dụng self. ký hiệu cho các thuộc tính tham chiếu của lớp trong các lời gọi phương thức. Xem lại cách mã ở trên hoạt động và thử tạo phương thức của riêng bạn.\n",
    "\n",
    "## Inheritance\n",
    "\n",
    "Các lớp dẫn xuất (con cháu) ghi đè hoặc mở rộng chức năng của các lớp cơ sở (tổ tiên).\n",
    "\n",
    "Hãy xem một ví dụ bằng cách kết hợp công việc trước đây của chúng tôi trên lớp Dog:"
   ]
  },
  {
   "cell_type": "code",
   "execution_count": 14,
   "metadata": {
    "collapsed": true
   },
   "outputs": [],
   "source": [
    "class Animal:\n",
    "    def __init__(self):\n",
    "        print(\"Animal created\")\n",
    "\n",
    "    def whoAmI(self):\n",
    "        print(\"Animal\")\n",
    "\n",
    "    def eat(self):\n",
    "        print(\"Eating\")\n",
    "\n",
    "\n",
    "class Dog(Animal):\n",
    "    def __init__(self):\n",
    "        Animal.__init__(self)\n",
    "        print(\"Dog created\")\n",
    "\n",
    "    def whoAmI(self):\n",
    "        print(\"Dog\")\n",
    "\n",
    "    def bark(self):\n",
    "        print(\"Woof!\")"
   ]
  },
  {
   "cell_type": "code",
   "execution_count": 15,
   "metadata": {},
   "outputs": [
    {
     "name": "stdout",
     "output_type": "stream",
     "text": [
      "Animal created\n",
      "Dog created\n"
     ]
    }
   ],
   "source": [
    "d = Dog()"
   ]
  },
  {
   "cell_type": "code",
   "execution_count": 16,
   "metadata": {},
   "outputs": [
    {
     "name": "stdout",
     "output_type": "stream",
     "text": [
      "Dog\n"
     ]
    }
   ],
   "source": [
    "d.whoAmI()"
   ]
  },
  {
   "cell_type": "code",
   "execution_count": 17,
   "metadata": {},
   "outputs": [
    {
     "name": "stdout",
     "output_type": "stream",
     "text": [
      "Eating\n"
     ]
    }
   ],
   "source": [
    "d.eat()"
   ]
  },
  {
   "cell_type": "code",
   "execution_count": 18,
   "metadata": {},
   "outputs": [
    {
     "name": "stdout",
     "output_type": "stream",
     "text": [
      "Woof!\n"
     ]
    }
   ],
   "source": [
    "d.bark()"
   ]
  },
  {
   "cell_type": "markdown",
   "metadata": {},
   "source": [
    "Trong ví dụ này, chúng ta có hai lớp: Animal và Dog. Animal là lớp cơ sở, Dog là lớp dẫn xuất.\n",
    "\n",
    "Lớp dẫn xuất kế thừa chức năng của lớp cơ sở.\n",
    "\n",
    "* Nó được hiển thị bằng phương thức eat ().\n",
    "\n",
    "Lớp dẫn xuất sửa đổi hành vi hiện có của lớp cơ sở.\n",
    "\n",
    "* được hiển thị bởi phương thức whoAmI ().\n",
    "\n",
    "Cuối cùng, lớp dẫn xuất mở rộng chức năng của lớp cơ sở, bằng cách định nghĩa một phương thức Bark () mới."
   ]
  },
  {
   "cell_type": "markdown",
   "metadata": {},
   "source": [
    "## Polymorphism\n",
    "\n",
    "Chúng ta đã biết rằng mặc dù các hàm có thể nhận các đối số khác nhau, nhưng các phương thức thuộc về các đối tượng mà chúng hoạt động trên đó. Trong Python, * đa hình * đề cập đến cách thức mà các lớp đối tượng khác nhau có thể dùng chung tên phương thức và những phương thức đó có thể được gọi từ cùng một nơi mặc dù nhiều đối tượng khác nhau có thể được truyền vào. Cách tốt nhất để giải thích điều này là ví dụ:"
   ]
  },
  {
   "cell_type": "code",
   "execution_count": 19,
   "metadata": {},
   "outputs": [
    {
     "name": "stdout",
     "output_type": "stream",
     "text": [
      "Niko says Woof!\n",
      "Felix says Meow!\n"
     ]
    }
   ],
   "source": [
    "class Dog:\n",
    "    def __init__(self, name):\n",
    "        self.name = name\n",
    "\n",
    "    def speak(self):\n",
    "        return self.name+' says Woof!'\n",
    "    \n",
    "class Cat:\n",
    "    def __init__(self, name):\n",
    "        self.name = name\n",
    "\n",
    "    def speak(self):\n",
    "        return self.name+' says Meow!' \n",
    "    \n",
    "niko = Dog('Niko')\n",
    "felix = Cat('Felix')\n",
    "\n",
    "print(niko.speak())\n",
    "print(felix.speak())"
   ]
  },
  {
   "cell_type": "markdown",
   "metadata": {},
   "source": [
    "Ở đây chúng ta có một lớp Dog và một lớp Cat, và mỗi lớp có một phương thức `.speak ()`. Khi được gọi, phương thức `.speak ()` của mỗi đối tượng trả về một kết quả duy nhất cho đối tượng.\n",
    "\n",
    "Có một số cách khác nhau để chứng minh tính đa hình. Đầu tiên, với vòng lặp for:"
   ]
  },
  {
   "cell_type": "code",
   "execution_count": 20,
   "metadata": {},
   "outputs": [
    {
     "name": "stdout",
     "output_type": "stream",
     "text": [
      "Niko says Woof!\n",
      "Felix says Meow!\n"
     ]
    }
   ],
   "source": [
    "for pet in [niko,felix]:\n",
    "    print(pet.speak())"
   ]
  },
  {
   "cell_type": "markdown",
   "metadata": {},
   "source": [
    "Another is with functions:"
   ]
  },
  {
   "cell_type": "code",
   "execution_count": 21,
   "metadata": {},
   "outputs": [
    {
     "name": "stdout",
     "output_type": "stream",
     "text": [
      "Niko says Woof!\n",
      "Felix says Meow!\n"
     ]
    }
   ],
   "source": [
    "def pet_speak(pet):\n",
    "    print(pet.speak())\n",
    "\n",
    "pet_speak(niko)\n",
    "pet_speak(felix)"
   ]
  },
  {
   "cell_type": "markdown",
   "metadata": {
    "slideshow": {
     "slide_type": "slide"
    }
   },
   "source": [
    "Trong cả hai trường hợp, chúng tôi có thể chuyển các kiểu đối tượng khác nhau và chúng tôi thu được các kết quả dành riêng cho đối tượng từ cùng một cơ chế.\n",
    "\n",
    "Một thực tế phổ biến hơn là sử dụng các lớp trừu tượng và kế thừa. Một lớp trừu tượng là một lớp không bao giờ mong đợi được khởi tạo. Ví dụ: chúng ta sẽ không bao giờ có đối tượng Động vật, chỉ có đối tượng Chó và Mèo, mặc dù Chó và Mèo có nguồn gốc từ Động vật:"
   ]
  },
  {
   "cell_type": "code",
   "execution_count": 2,
   "metadata": {},
   "outputs": [
    {
     "name": "stdout",
     "output_type": "stream",
     "text": [
      "Fido says Woof!\n",
      "Isis says Meow!\n"
     ]
    }
   ],
   "source": [
    "class Animal:\n",
    "    def __init__(self, name):    # Constructor of the class\n",
    "        self.name = name\n",
    "\n",
    "    def speak(self):      # Abstract method, defined by convention only- Phương thức trừu tượng, chỉ được xác định theo quy ước\n",
    "        raise NotImplementedError(\"Subclass must implement abstract method\")\n",
    "\n",
    "\n",
    "class Dog(Animal):\n",
    "    \n",
    "    def speak(self):\n",
    "        return self.name+' says Woof!'\n",
    "    \n",
    "class Cat(Animal):\n",
    "\n",
    "    def speak(self):\n",
    "        return self.name+' says Meow!'\n",
    "    \n",
    "fido = Dog('Fido')\n",
    "isis = Cat('Isis')\n",
    "\n",
    "print(fido.speak())\n",
    "print(isis.speak())"
   ]
  },
  {
   "cell_type": "markdown",
   "metadata": {},
   "source": [
    "Các ví dụ thực tế về tính đa hình bao gồm:\n",
    "* mở các loại tệp khác nhau - cần có các công cụ khác nhau để hiển thị các tệp Word, pdf và Excel\n",
    "* thêm các đối tượng khác nhau - toán tử `+` thực hiện số học và nối"
   ]
  },
  {
   "cell_type": "markdown",
   "metadata": {},
   "source": [
    "## Special Methods\n",
    "\n",
    "Cuối cùng chúng ta hãy xem xét các phương thức đặc biệt. Các lớp trong Python có thể triển khai các hoạt động nhất định với các tên phương thức đặc biệt. Các phương thức này không thực sự được gọi trực tiếp mà bằng cú pháp ngôn ngữ cụ thể của Python. Ví dụ, hãy tạo một lớp Sách:"
   ]
  },
  {
   "cell_type": "code",
   "execution_count": 23,
   "metadata": {
    "collapsed": true
   },
   "outputs": [],
   "source": [
    "class Book:\n",
    "    def __init__(self, title, author, pages):\n",
    "        print(\"A book is created\")\n",
    "        self.title = title\n",
    "        self.author = author\n",
    "        self.pages = pages\n",
    "\n",
    "    def __str__(self):\n",
    "        return \"Title: %s, author: %s, pages: %s\" %(self.title, self.author, self.pages)\n",
    "\n",
    "    def __len__(self):\n",
    "        return self.pages\n",
    "\n",
    "    def __del__(self):\n",
    "        print(\"A book is destroyed\")"
   ]
  },
  {
   "cell_type": "code",
   "execution_count": 24,
   "metadata": {},
   "outputs": [
    {
     "name": "stdout",
     "output_type": "stream",
     "text": [
      "A book is created\n",
      "Title: Python Rocks!, author: Jose Portilla, pages: 159\n",
      "159\n",
      "A book is destroyed\n"
     ]
    }
   ],
   "source": [
    "book = Book(\"Python Rocks!\", \"Jose Portilla\", 159)\n",
    "\n",
    "#Special Methods\n",
    "print(book)\n",
    "print(len(book))\n",
    "del book"
   ]
  },
  {
   "cell_type": "markdown",
   "metadata": {},
   "source": [
    "    The __init__(), __str__(), __len__() and __del__() methods\n",
    "\n",
    "Các phương pháp đặc biệt này được xác định bằng cách sử dụng dấu gạch dưới. Chúng cho phép chúng tôi sử dụng các hàm cụ thể của Python trên các đối tượng được tạo thông qua lớp của chúng tôi.\n",
    "\n",
    "**Tuyệt vời! Sau bài giảng này, bạn sẽ có hiểu biết cơ bản về cách tạo các đối tượng của riêng bạn với lớp trong Python. Bạn sẽ tận dụng điều này rất nhiều trong dự án quan trọng tiếp theo của mình! **\n",
    "\n",
    "For more great resources on this topic, check out:\n",
    "\n",
    "[Jeff Knupp's Post](https://jeffknupp.com/blog/2014/06/18/improve-your-python-python-classes-and-object-oriented-programming/)\n",
    "\n",
    "[Mozilla's Post](https://developer.mozilla.org/en-US/Learn/Python/Quickly_Learn_Object_Oriented_Programming)\n",
    "\n",
    "[Tutorial's Point](http://www.tutorialspoint.com/python/python_classes_objects.htm)\n",
    "\n",
    "[Official Documentation](https://docs.python.org/3/tutorial/classes.html)"
   ]
  },
  {
   "cell_type": "code",
   "execution_count": null,
   "metadata": {},
   "outputs": [],
   "source": []
  }
 ],
 "metadata": {
  "kernelspec": {
   "display_name": "Python 3",
   "language": "python",
   "name": "python3"
  },
  "language_info": {
   "codemirror_mode": {
    "name": "ipython",
    "version": 3
   },
   "file_extension": ".py",
   "mimetype": "text/x-python",
   "name": "python",
   "nbconvert_exporter": "python",
   "pygments_lexer": "ipython3",
   "version": "3.8.5"
  }
 },
 "nbformat": 4,
 "nbformat_minor": 1
}
