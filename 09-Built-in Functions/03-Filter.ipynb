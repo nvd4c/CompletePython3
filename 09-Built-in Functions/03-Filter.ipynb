{
 "cells": [
  {
   "cell_type": "markdown",
   "metadata": {},
   "source": [
    "___\n",
    "\n",
    "<a href='https://www.udemy.com/user/joseportilla/'><img src='../Pierian_Data_Logo.png'/></a>\n",
    "___\n",
    "<center><em>Content Copyright by Pierian Data</em></center>"
   ]
  },
  {
   "cell_type": "markdown",
   "metadata": {},
   "source": [
    "# filter\n",
    "\n",
    "hàm filter(function, list) cung cấp một cách thuận tiện để lọc ra tất cả các phần tử của một iterable mà hàm trả về giá trị True.\n",
    "\n",
    "filter(function,list) cần một hàm làm đối số đầu tiên của nó. Hàm cần trả về giá trị Boolean (either Đúng hoặc Sai). Hàm này sẽ được áp dụng cho mọi phần tử of the iterable. Chỉ khi hàm trả về giá trị True thì phần tử of the iterable được đưa vào kết quả.\n",
    "\n",
    "Giống như map(), filter() trả về một *vòng lặp(iterator)* - nghĩa là, filter mang lại một kết quả tại một thời điểm khi cần thiết. Iterators and generators sẽ được đề cập trong một bài giảng sắp tới. Hiện tại, vì các ví dụ của chúng tôi rất nhỏ, chúng tôi sẽ sử dụng filter() dưới dạng danh sách để xem kết quả của chúng tôi ngay lập tức.\n",
    "\n",
    "Hãy xem một số ví dụ:"
   ]
  },
  {
   "cell_type": "code",
   "execution_count": 1,
   "metadata": {
    "collapsed": true
   },
   "outputs": [],
   "source": [
    "#First let's make a function\n",
    "def even_check(num):\n",
    "    if num%2 ==0:\n",
    "        return True"
   ]
  },
  {
   "cell_type": "markdown",
   "metadata": {},
   "source": [
    "Bây giờ chúng ta hãy lọc một danh sách các số. Lưu ý: việc đặt hàm vào bộ lọc mà không có bất kỳ dấu ngoặc đơn nào có thể cảm thấy lạ, nhưng hãy nhớ rằng các hàm cũng là đối tượng."
   ]
  },
  {
   "cell_type": "code",
   "execution_count": 2,
   "metadata": {},
   "outputs": [
    {
     "data": {
      "text/plain": [
       "[0, 2, 4, 6, 8, 10, 12, 14, 16, 18]"
      ]
     },
     "execution_count": 2,
     "metadata": {},
     "output_type": "execute_result"
    }
   ],
   "source": [
    "lst =range(20)\n",
    "\n",
    "list(filter(even_check,lst))"
   ]
  },
  {
   "cell_type": "markdown",
   "metadata": {},
   "source": [
    "filter() được sử dụng phổ biến hơn với các hàm lambda, vì chúng ta thường sử dụng bộ lọc cho một công việc nhanh chóng mà chúng ta không muốn viết toàn bộ một hàm. Hãy lặp lại ví dụ trên bằng cách sử dụng biểu thức lambda:"
   ]
  },
  {
   "cell_type": "code",
   "execution_count": 3,
   "metadata": {},
   "outputs": [
    {
     "data": {
      "text/plain": [
       "[0, 2, 4, 6, 8, 10, 12, 14, 16, 18]"
      ]
     },
     "execution_count": 3,
     "metadata": {},
     "output_type": "execute_result"
    }
   ],
   "source": [
    "list(filter(lambda x: x%2==0,lst))"
   ]
  },
  {
   "cell_type": "markdown",
   "metadata": {},
   "source": [
    "Great! You should now have a solid understanding of filter() and how to apply it to your code!"
   ]
  }
 ],
 "metadata": {
  "kernelspec": {
   "display_name": "Python 3",
   "language": "python",
   "name": "python3"
  },
  "language_info": {
   "codemirror_mode": {
    "name": "ipython",
    "version": 3
   },
   "file_extension": ".py",
   "mimetype": "text/x-python",
   "name": "python",
   "nbconvert_exporter": "python",
   "pygments_lexer": "ipython3",
   "version": "3.8.5"
  }
 },
 "nbformat": 4,
 "nbformat_minor": 1
}
