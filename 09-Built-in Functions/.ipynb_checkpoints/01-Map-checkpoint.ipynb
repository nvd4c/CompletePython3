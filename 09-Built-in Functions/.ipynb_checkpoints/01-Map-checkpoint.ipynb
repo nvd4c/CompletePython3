{
 "cells": [
  {
   "cell_type": "markdown",
   "metadata": {},
   "source": [
    "___\n",
    "\n",
    "<a href='https://www.udemy.com/user/joseportilla/'><img src='../Pierian_Data_Logo.png'/></a>\n",
    "___\n",
    "<center><em>Content Copyright by Pierian Data</em></center>"
   ]
  },
  {
   "cell_type": "markdown",
   "metadata": {},
   "source": [
    "# map()\n",
    "\n",
    "map() là một hàm Python tích hợp sẵn có hai hoặc nhiều đối số: một hàm và một hoặc nhiều đoạn lặp, ở dạng:\n",
    "\n",
    "     map(function, iterable, ...)\n",
    "    \n",
    "map() trả về một *iterator* - nghĩa là map() trả về một đối tượng đặc biệt mang lại một kết quả tại một thời điểm khi cần thiết. Chúng ta sẽ tìm hiểu thêm về trình lặp và trình tạo trong một bài giảng trong tương lai. Hiện tại, vì các ví dụ của chúng tôi rất nhỏ, chúng tôi sẽ sử dụng map() dưới dạng danh sách để xem kết quả ngay lập tức.\n",
    "\n",
    "Khi xem qua phần hiểu danh sách(list comprehensions), chúng tôi đã tạo một biểu thức nhỏ để chuyển độ C thành độ F. Hãy làm tương tự ở đây nhưng sử dụng map:"
   ]
  },
  {
   "cell_type": "code",
   "execution_count": 1,
   "metadata": {
    "collapsed": true
   },
   "outputs": [],
   "source": [
    "def fahrenheit(celsius):\n",
    "    return (9/5)*celsius + 32\n",
    "    \n",
    "temps = [0, 22.5, 40, 100]"
   ]
  },
  {
   "cell_type": "markdown",
   "metadata": {},
   "source": [
    "Now let's see map() in action:"
   ]
  },
  {
   "cell_type": "code",
   "execution_count": 2,
   "metadata": {},
   "outputs": [
    {
     "data": {
      "text/plain": [
       "[32.0, 72.5, 104.0, 212.0]"
      ]
     },
     "execution_count": 2,
     "metadata": {},
     "output_type": "execute_result"
    }
   ],
   "source": [
    "F_temps = map(fahrenheit, temps)\n",
    "\n",
    "#Show\n",
    "list(F_temps)"
   ]
  },
  {
   "cell_type": "markdown",
   "metadata": {},
   "source": [
    "Trong ví dụ trên, map() áp dụng hàm fahrenheit cho mọi mục trong thời gian tạm thời. Tuy nhiên, chúng ta không phải xác định trước các function của mình; thay vào đó chúng ta có thể sử dụng biểu thức lambda:"
   ]
  },
  {
   "cell_type": "code",
   "execution_count": 3,
   "metadata": {},
   "outputs": [
    {
     "data": {
      "text/plain": [
       "[32.0, 72.5, 104.0, 212.0]"
      ]
     },
     "execution_count": 3,
     "metadata": {},
     "output_type": "execute_result"
    }
   ],
   "source": [
    "list(map(lambda x: (9/5)*x + 32, temps))"
   ]
  },
  {
   "cell_type": "markdown",
   "metadata": {},
   "source": [
    "Tuyệt vời! Chúng tôi nhận được cùng một kết quả! Sử dụng map với các biểu thức lambda phổ biến hơn nhiều vì toàn bộ mục đích của map() là để tiết kiệm công sức khi phải tạo thủ công cho các vòng lặp."
   ]
  },
  {
   "cell_type": "markdown",
   "metadata": {},
   "source": [
    "### map() with multiple iterables\n",
    "map() có thể chấp nhận nhiều hơn một iterable. Các vòng lặp(iterable) phải có cùng độ dài - trong trường hợp không phải, map() sẽ dừng ngay khi hết vòng lặp ngắn nhất.\n",
    "\n",
    "\n",
    "Ví dụ: nếu hàm của chúng ta đang cố gắng thêm hai giá trị **x** và **y**, chúng ta có thể truyền một danh sách các giá trị **x** và một danh sách các giá trị **y** khác vào map() . Hàm (hoặc lambda) sẽ được cung cấp chỉ mục thứ 0 từ mỗi danh sách, sau đó là chỉ mục đầu tiên, và cứ tiếp tục như vậy cho đến khi đạt đến chỉ mục thứ n.\n",
    "\n",
    "Hãy xem điều này hoạt động với hai và sau đó ba danh sách:"
   ]
  },
  {
   "cell_type": "code",
   "execution_count": 4,
   "metadata": {},
   "outputs": [
    {
     "data": {
      "text/plain": [
       "[6, 8, 10, 12]"
      ]
     },
     "execution_count": 4,
     "metadata": {},
     "output_type": "execute_result"
    }
   ],
   "source": [
    "a = [1,2,3,4]\n",
    "b = [5,6,7,8]\n",
    "c = [9,10,11,12]\n",
    "\n",
    "list(map(lambda x,y:x+y,a,b))"
   ]
  },
  {
   "cell_type": "code",
   "execution_count": 5,
   "metadata": {},
   "outputs": [
    {
     "data": {
      "text/plain": [
       "[15, 18, 21, 24]"
      ]
     },
     "execution_count": 5,
     "metadata": {},
     "output_type": "execute_result"
    }
   ],
   "source": [
    "# Now all three lists\n",
    "list(map(lambda x,y,z:x+y+z,a,b,c))"
   ]
  },
  {
   "cell_type": "markdown",
   "metadata": {},
   "source": [
    "Chúng ta có thể thấy trong ví dụ trên rằng tham số **x** nhận giá trị từ danh sách **a**, trong khi **y** nhận giá trị từ **b** và **z** từ danh sách **C**. Hãy tiếp tục và thử với ví dụ của riêng bạn để đảm bảo rằng bạn hiểu đầy đủ về ánh xạ tới nhiều hơn một iterable.\n",
    "\n",
    "Bạn đã làm rất tốt! Bây giờ bạn đã có hiểu biết cơ bản về hàm map()."
   ]
  },
  {
   "cell_type": "code",
   "execution_count": null,
   "metadata": {},
   "outputs": [],
   "source": []
  }
 ],
 "metadata": {
  "kernelspec": {
   "display_name": "Python 3",
   "language": "python",
   "name": "python3"
  },
  "language_info": {
   "codemirror_mode": {
    "name": "ipython",
    "version": 3
   },
   "file_extension": ".py",
   "mimetype": "text/x-python",
   "name": "python",
   "nbconvert_exporter": "python",
   "pygments_lexer": "ipython3",
   "version": "3.8.5"
  }
 },
 "nbformat": 4,
 "nbformat_minor": 1
}
