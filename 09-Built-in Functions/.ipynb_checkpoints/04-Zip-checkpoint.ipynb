{
 "cells": [
  {
   "cell_type": "markdown",
   "metadata": {},
   "source": [
    "___\n",
    "\n",
    "<a href='https://www.udemy.com/user/joseportilla/'><img src='../Pierian_Data_Logo.png'/></a>\n",
    "___\n",
    "<center><em>Content Copyright by Pierian Data</em></center>"
   ]
  },
  {
   "cell_type": "markdown",
   "metadata": {},
   "source": [
    "# zip\n",
    "\n",
    "zip () tạo một trình vòng lặp tổng hợp các phần tử từ mỗi vòng lặp.\n",
    "\n",
    "Trả về một trình lặp các bộ giá trị, trong đó bộ giá trị thứ i chứa phần tử thứ i từ mỗi chuỗi đối số hoặc chuỗi lặp. Trình lặp(the iterator) dừng khi đầu vào ngắn nhất có thể lặp lại đã hết. Với một đối số có thể lặp lại duy nhất, nó trả về một trình lặp gồm 1 bộ giá trị(tuplet). Không có đối số, nó trả về một trình lặp trống.\n",
    "\n",
    "zip () tương đương với:\n",
    "\n",
    "    def zip(*iterables):\n",
    "        # zip('ABCD', 'xy') --> Ax By\n",
    "        sentinel = object()\n",
    "        iterators = [iter(it) for it in iterables]\n",
    "        while iterators:\n",
    "            result = []\n",
    "            for it in iterators:\n",
    "                elem = next(it, sentinel)\n",
    "                if elem is sentinel:\n",
    "                    return\n",
    "                result.append(elem)\n",
    "            yield tuple(result)\n",
    "        \n",
    "\n",
    "zip() chỉ nên được sử dụng với các đầu vào có độ dài không bằng nhau khi bạn không quan tâm đến các giá trị theo sau, không khớp từ các vòng lặp dài hơn.\n",
    "\n",
    "Hãy xem nó hoạt động trong một số ví dụ:\n",
    "\n",
    "## Examples"
   ]
  },
  {
   "cell_type": "code",
   "execution_count": 1,
   "metadata": {},
   "outputs": [
    {
     "data": {
      "text/plain": [
       "[(1, 4), (2, 5), (3, 6)]"
      ]
     },
     "execution_count": 1,
     "metadata": {},
     "output_type": "execute_result"
    }
   ],
   "source": [
    "x = [1,2,3]\n",
    "y = [4,5,6]\n",
    "\n",
    "# Zip the lists together\n",
    "list(zip(x,y))"
   ]
  },
  {
   "cell_type": "markdown",
   "metadata": {},
   "source": [
    "Lưu ý cách các tuplet được trả lại. Điều gì sẽ xảy ra nếu one iterable is longer than the other"
   ]
  },
  {
   "cell_type": "code",
   "execution_count": 2,
   "metadata": {},
   "outputs": [
    {
     "data": {
      "text/plain": [
       "[(1, 4), (2, 5), (3, 6)]"
      ]
     },
     "execution_count": 2,
     "metadata": {},
     "output_type": "execute_result"
    }
   ],
   "source": [
    "x = [1,2,3]\n",
    "y = [4,5,6,7,8]\n",
    "\n",
    "# Zip the lists together\n",
    "list(zip(x,y))"
   ]
  },
  {
   "cell_type": "markdown",
   "metadata": {},
   "source": [
    "Lưu ý cách xác định zip theo the shortest iterable length. Thông thường, nó được khuyên không nên zip các đoạn lặp có độ dài không bằng nhau trừ khi bạn rất chắc chắn rằng bạn chỉ cần ghép nối từng phần.\n",
    "\n",
    "Điều gì xảy ra nếu chúng ta cố gắng nén các từ điển lại với nhau?"
   ]
  },
  {
   "cell_type": "code",
   "execution_count": 3,
   "metadata": {},
   "outputs": [
    {
     "data": {
      "text/plain": [
       "[('a', 'c'), ('b', 'd')]"
      ]
     },
     "execution_count": 3,
     "metadata": {},
     "output_type": "execute_result"
    }
   ],
   "source": [
    "d1 = {'a':1,'b':2}\n",
    "d2 = {'c':4,'d':5}\n",
    "\n",
    "list(zip(d1,d2))"
   ]
  },
  {
   "cell_type": "markdown",
   "metadata": {},
   "source": [
    "Điều này có ý nghĩa vì chỉ cần lặp lại từ điển sẽ chỉ tạo ra các khóa. Chúng tôi sẽ phải gọi các phương thức để trộn các khóa và giá trị:"
   ]
  },
  {
   "cell_type": "code",
   "execution_count": 4,
   "metadata": {},
   "outputs": [
    {
     "data": {
      "text/plain": [
       "[('c', 1), ('d', 2)]"
      ]
     },
     "execution_count": 4,
     "metadata": {},
     "output_type": "execute_result"
    }
   ],
   "source": [
    "list(zip(d2,d1.values()))"
   ]
  },
  {
   "cell_type": "markdown",
   "metadata": {},
   "source": [
    "Tuyệt vời! Cuối cùng, hãy sử dụng zip() để chuyển đổi các khóa và giá trị của hai từ điển:"
   ]
  },
  {
   "cell_type": "code",
   "execution_count": 5,
   "metadata": {
    "collapsed": true
   },
   "outputs": [],
   "source": [
    "def switcharoo(d1,d2):\n",
    "    dout = {}\n",
    "    \n",
    "    for d1key,d2val in zip(d1,d2.values()):\n",
    "        dout[d1key] = d2val\n",
    "    \n",
    "    return dout"
   ]
  },
  {
   "cell_type": "code",
   "execution_count": 6,
   "metadata": {},
   "outputs": [
    {
     "data": {
      "text/plain": [
       "{'a': 4, 'b': 5}"
      ]
     },
     "execution_count": 6,
     "metadata": {},
     "output_type": "execute_result"
    }
   ],
   "source": [
    "switcharoo(d1,d2)"
   ]
  },
  {
   "cell_type": "markdown",
   "metadata": {},
   "source": [
    "Tuyệt vời! Bạn có thể sử dụng zip để tiết kiệm rất nhiều lần gõ trong nhiều tình huống! Bây giờ bạn đã hiểu rõ về zip() và một số trường hợp sử dụng có thể xảy ra."
   ]
  },
  {
   "cell_type": "code",
   "execution_count": null,
   "metadata": {},
   "outputs": [],
   "source": []
  }
 ],
 "metadata": {
  "kernelspec": {
   "display_name": "Python 3",
   "language": "python",
   "name": "python3"
  },
  "language_info": {
   "codemirror_mode": {
    "name": "ipython",
    "version": 3
   },
   "file_extension": ".py",
   "mimetype": "text/x-python",
   "name": "python",
   "nbconvert_exporter": "python",
   "pygments_lexer": "ipython3",
   "version": "3.8.5"
  }
 },
 "nbformat": 4,
 "nbformat_minor": 1
}
