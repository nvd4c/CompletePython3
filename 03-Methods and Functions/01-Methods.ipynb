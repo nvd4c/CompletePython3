{
 "cells": [
  {
   "cell_type": "markdown",
   "metadata": {},
   "source": [
    "___\n",
    "\n",
    "<a href='https://www.udemy.com/user/joseportilla/'><img src='../Pierian_Data_Logo.png'/></a>\n",
    "___\n",
    "<center><em>Content Copyright by Pierian Data</em></center>"
   ]
  },
  {
   "cell_type": "markdown",
   "metadata": {},
   "source": [
    "# Methods\n",
    "\n",
    "\n",
    "Phương thức thực chất là các hàm được xây dựng trong các đối tượng. Sau đó trong khóa học, chúng ta sẽ tìm hiểu về cách tạo các đối tượng và phương thức của riêng mình bằng cách sử dụng Lập trình hướng đối tượng (OOP) và các lớp.\n",
    "\n",
    "Các phương thức thực hiện các hành động cụ thể trên một đối tượng và cũng có thể nhận các đối số, giống như một hàm. Bài giảng này sẽ chỉ là một giới thiệu ngắn gọn về các phương thức và giúp bạn suy nghĩ về các phương pháp thiết kế tổng thể mà chúng ta sẽ đề cập lại khi chúng ta đạt được OOP trong khóa học.\n",
    "\n",
    "\n",
    "Các phương thức có dạng:\n",
    "\n",
    "    object.method(arg1,arg2,etc...)\n",
    "    \n",
    "\n",
    "Sau đó, bạn sẽ thấy rằng chúng ta có thể nghĩ về các phương thức như có một đối số 'self' đề cập đến chính đối tượng. Bạn không thể thấy đối số này nhưng chúng tôi sẽ sử dụng nó sau này trong khóa học trong các bài giảng OOP.\n",
    "\n",
    "Hãy xem nhanh ví dụ về các phương pháp khác nhau mà danh sách có:"
   ]
  },
  {
   "cell_type": "code",
   "execution_count": 2,
   "metadata": {},
   "outputs": [],
   "source": [
    "# Create a simple list\n",
    "lst = [1,2,3,4,5]"
   ]
  },
  {
   "cell_type": "markdown",
   "metadata": {},
   "source": [
    "May mắn thay, với iPython và Jupyter Notebook, chúng ta có thể nhanh chóng xem tất cả các phương pháp có thể sử dụng phím tab. Các phương pháp cho một danh sách là:\n",
    "\n",
    "* append\n",
    "* count\n",
    "* extend\n",
    "* insert\n",
    "* pop\n",
    "* remove\n",
    "* reverse\n",
    "* sort\n",
    "\n",
    "Let's try out a few of them:"
   ]
  },
  {
   "cell_type": "markdown",
   "metadata": {},
   "source": [
    "append() allows us to add elements to the end of a list:"
   ]
  },
  {
   "cell_type": "code",
   "execution_count": 3,
   "metadata": {},
   "outputs": [],
   "source": [
    "lst.append(6)"
   ]
  },
  {
   "cell_type": "code",
   "execution_count": 3,
   "metadata": {},
   "outputs": [
    {
     "data": {
      "text/plain": [
       "[1, 2, 3, 4, 5, 6]"
      ]
     },
     "execution_count": 3,
     "metadata": {},
     "output_type": "execute_result"
    }
   ],
   "source": [
    "lst"
   ]
  },
  {
   "cell_type": "markdown",
   "metadata": {},
   "source": [
    "Tuyệt vời! Bây giờ làm thế nào về count ()? Phương thức count () sẽ đếm số lần xuất hiện của một phần tử trong danh sách."
   ]
  },
  {
   "cell_type": "code",
   "execution_count": 4,
   "metadata": {},
   "outputs": [
    {
     "data": {
      "text/plain": [
       "1"
      ]
     },
     "execution_count": 4,
     "metadata": {},
     "output_type": "execute_result"
    }
   ],
   "source": [
    "# Kiểm tra xem 2 hiển thị trong danh sách bao nhiêu lần\n",
    "lst.count(2)"
   ]
  },
  {
   "cell_type": "markdown",
   "metadata": {},
   "source": [
    "Bạn luôn có thể sử dụng Shift + Tab trong Jupyter Notebook để nhận thêm trợ giúp về phương pháp này. Nói chung trong Python, bạn có thể sử dụng hàm help ():"
   ]
  },
  {
   "cell_type": "code",
   "execution_count": 5,
   "metadata": {},
   "outputs": [
    {
     "name": "stdout",
     "output_type": "stream",
     "text": [
      "Help on built-in function count:\n",
      "\n",
      "count(...) method of builtins.list instance\n",
      "    L.count(value) -> integer -- return number of occurrences of value\n",
      "\n"
     ]
    }
   ],
   "source": [
    "help(lst.count)"
   ]
  },
  {
   "cell_type": "markdown",
   "metadata": {},
   "source": [
    "Hãy thử với phần còn lại của các phương pháp để có danh sách. Ở phần sau của phần này, bài kiểm tra của bạn sẽ liên quan đến việc sử dụng trợ giúp và Google tìm kiếm các phương pháp của các loại đối tượng khác nhau!"
   ]
  }
 ],
 "metadata": {
  "kernelspec": {
   "display_name": "Python 3",
   "language": "python",
   "name": "python3"
  },
  "language_info": {
   "codemirror_mode": {
    "name": "ipython",
    "version": 3
   },
   "file_extension": ".py",
   "mimetype": "text/x-python",
   "name": "python",
   "nbconvert_exporter": "python",
   "pygments_lexer": "ipython3",
   "version": "3.8.5"
  }
 },
 "nbformat": 4,
 "nbformat_minor": 1
}
