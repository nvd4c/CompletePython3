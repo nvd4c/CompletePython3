{
 "cells": [
  {
   "cell_type": "markdown",
   "metadata": {},
   "source": [
    "___\n",
    "\n",
    "<a href='https://www.udemy.com/user/joseportilla/'><img src='../Pierian_Data_Logo.png'/></a>\n",
    "___\n",
    "<center><em>Content Copyright by Pierian Data</em></center>"
   ]
  },
  {
   "cell_type": "markdown",
   "metadata": {},
   "source": [
    "# Nested Statements and Scope \n",
    "\n",
    "Bây giờ chúng ta đã viết xong các hàm của riêng mình, điều quan trọng là phải hiểu cách Python xử lý các tên biến mà bạn gán. Khi bạn tạo một tên biến trong Python, tên được lưu trữ trong * name-space *. Tên biến cũng có * phạm vi *, phạm vi xác định khả năng hiển thị của tên biến đó đối với các phần khác của mã của bạn.\n",
    "\n",
    "Hãy bắt đầu với một thử nghiệm suy nghĩ nhanh chóng; hãy tưởng tượng đoạn mã sau:"
   ]
  },
  {
   "cell_type": "code",
   "execution_count": 1,
   "metadata": {
    "collapsed": true
   },
   "outputs": [],
   "source": [
    "x = 25\n",
    "\n",
    "def printer():\n",
    "    x = 50\n",
    "    return x\n",
    "\n",
    "# print(x)\n",
    "# print(printer())"
   ]
  },
  {
   "cell_type": "markdown",
   "metadata": {},
   "source": [
    "What do you imagine the output of printer() is? 25 or 50? What is the output of print x? 25 or 50?"
   ]
  },
  {
   "cell_type": "code",
   "execution_count": 2,
   "metadata": {},
   "outputs": [
    {
     "name": "stdout",
     "output_type": "stream",
     "text": [
      "25\n"
     ]
    }
   ],
   "source": [
    "print(x)"
   ]
  },
  {
   "cell_type": "code",
   "execution_count": 3,
   "metadata": {},
   "outputs": [
    {
     "name": "stdout",
     "output_type": "stream",
     "text": [
      "50\n"
     ]
    }
   ],
   "source": [
    "print(printer())"
   ]
  },
  {
   "cell_type": "markdown",
   "metadata": {},
   "source": [
    "Thú vị! Nhưng làm thế nào Python biết ** x ** nào bạn đang đề cập đến trong mã của mình? Đây là nơi xuất hiện ý tưởng về phạm vi. Python có một bộ quy tắc mà nó tuân theo để quyết định những biến nào (chẳng hạn như ** x ** trong trường hợp này) bạn đang tham chiếu trong mã của mình. Hãy chia nhỏ các quy tắc:"
   ]
  },
  {
   "cell_type": "markdown",
   "metadata": {
    "collapsed": true
   },
   "source": [
    " Ý tưởng về phạm vi này trong mã của bạn là rất quan trọng để hiểu để chỉ định và gọi tên biến một cách chính xác.\n",
    "\n",
    "Nói một cách dễ hiểu, ý tưởng về phạm vi có thể được mô tả bằng 3 quy tắc chung\n",
    "\n",
    "1. Việc gán tên sẽ tạo hoặc thay đổi local name theo mặc định.\n",
    "2. Tìm kiếm tham chiếu tên (nhiều nhất) bốn phạm vi, đó là:\n",
    "     * địa phương\n",
    "     * function bao quanh (enclosing functions)\n",
    "     * global\n",
    "     * được xây dựng trong ( tích hợp)\n",
    "3. Các tên được khai báo trong các câu lệnh toàn cục và ko phải toàn cục ánh xạ các tên được gán cho các phạm vi mô-đun và chức năng bao quanh.\n",
    "\n",
    "Tuyên bố trong # 2 ở trên có thể được định nghĩa bởi quy tắc LEGB.\n",
    "\n",
    "** Quy tắc LEGB: **\n",
    "\n",
    "L: Local - Tên được gán theo bất kỳ cách nào trong một hàm (def hoặc lambda), và không được khai báo toàn cục trong hàm đó.\n",
    "\n",
    "E: Các cục bộ của hàm bao quanh (Enclosing function locals) - Các tên trong phạm vi cục bộ của bất kỳ và tất cả các hàm bao quanh (def hoặc lambda), từ trong ra ngoài.\n",
    "\n",
    "G: Global (mô-đun) - Tên được gán ở cấp cao nhất của tệp mô-đun hoặc được khai báo toàn cục trong một định nghĩa trong tệp.\n",
    "\n",
    "B: Tích hợp sẵn (Python) - Tên được gán sẵn trong mô-đun tên được tích hợp sẵn: open, range, SyntaxError, ..."
   ]
  },
  {
   "cell_type": "markdown",
   "metadata": {},
   "source": [
    "## Quick examples of LEGB\n",
    "\n",
    "### Local"
   ]
  },
  {
   "cell_type": "code",
   "execution_count": 4,
   "metadata": {
    "collapsed": true
   },
   "outputs": [],
   "source": [
    "# x is local here:\n",
    "f = lambda x:x**2"
   ]
  },
  {
   "cell_type": "markdown",
   "metadata": {},
   "source": [
    "### Enclosing function locals (Bao quanh các địa phương chức năng)\n",
    "\n",
    "Điều này xảy ra khi chúng ta có một hàm bên trong một hàm (các hàm lồng nhau)\n"
   ]
  },
  {
   "cell_type": "code",
   "execution_count": 5,
   "metadata": {},
   "outputs": [
    {
     "name": "stdout",
     "output_type": "stream",
     "text": [
      "Hello Sammy\n"
     ]
    }
   ],
   "source": [
    "name = 'This is a global name'\n",
    "\n",
    "def greet():\n",
    "    # Enclosing function\n",
    "    name = 'Sammy'\n",
    "    \n",
    "    def hello():\n",
    "        print('Hello '+name)\n",
    "    \n",
    "    hello()\n",
    "\n",
    "greet()"
   ]
  },
  {
   "cell_type": "markdown",
   "metadata": {},
   "source": [
    " vì hàm hello () được bao gồm bên trong hàm great"
   ]
  },
  {
   "cell_type": "markdown",
   "metadata": {},
   "source": [
    "### Global\n",
    "\n",
    "May mắn thay, trong Jupyter, một cách nhanh chóng để kiểm tra các biến toàn cục là xem liệu ô khác có nhận ra biến hay không!"
   ]
  },
  {
   "cell_type": "code",
   "execution_count": 6,
   "metadata": {},
   "outputs": [
    {
     "name": "stdout",
     "output_type": "stream",
     "text": [
      "This is a global name\n"
     ]
    }
   ],
   "source": [
    "print(name)"
   ]
  },
  {
   "cell_type": "markdown",
   "metadata": {},
   "source": [
    "### Built-in\n",
    "These are the built-in function names in Python (don't overwrite these!)"
   ]
  },
  {
   "cell_type": "code",
   "execution_count": 7,
   "metadata": {},
   "outputs": [
    {
     "data": {
      "text/plain": [
       "<function len>"
      ]
     },
     "execution_count": 7,
     "metadata": {},
     "output_type": "execute_result"
    }
   ],
   "source": [
    "len"
   ]
  },
  {
   "cell_type": "markdown",
   "metadata": {},
   "source": [
    "## Local Variables\n",
    "\n",
    "Khi bạn khai báo các biến bên trong định nghĩa hàm, chúng không liên quan theo bất kỳ cách nào với các biến khác có cùng tên được sử dụng bên ngoài hàm - tức là tên biến là cục bộ của hàm. Đây được gọi là phạm vi của biến. Tất cả các biến đều có phạm vi khối mà chúng được khai báo bắt đầu từ điểm định nghĩa tên.\n",
    "\n",
    "Example:"
   ]
  },
  {
   "cell_type": "code",
   "execution_count": 8,
   "metadata": {},
   "outputs": [
    {
     "name": "stdout",
     "output_type": "stream",
     "text": [
      "x is 50\n",
      "Changed local x to 2\n",
      "x is still 50\n"
     ]
    }
   ],
   "source": [
    "x = 50\n",
    "\n",
    "def func(x):\n",
    "    print('x is', x)\n",
    "    x = 2\n",
    "    print('Changed local x to', x)\n",
    "\n",
    "func(x)\n",
    "print('x is still', x)"
   ]
  },
  {
   "cell_type": "markdown",
   "metadata": {},
   "source": [
    "Lần đầu tiên chúng tôi in giá trị của tên ** x ** với dòng đầu tiên trong phần thân của hàm, Python sử dụng giá trị của tham số được khai báo trong khối chính, phía trên định nghĩa hàm.\n",
    "\n",
    "Tiếp theo, chúng tôi gán giá trị 2 cho ** x **. Tên ** x ** là địa phương cho hàm của chúng ta. Vì vậy, khi chúng ta thay đổi giá trị của ** x ** trong hàm, ** x ** được xác định trong khối chính vẫn không bị ảnh hưởng.\n",
    "\n",
    "Với câu lệnh in cuối cùng, chúng tôi hiển thị giá trị của ** x ** như được xác định trong khối chính, do đó xác nhận rằng nó thực sự không bị ảnh hưởng bởi phép gán cục bộ trong hàm được gọi trước đó.\n",
    "\n",
    "## The <code>global</code> statement\n",
    "Nếu bạn muốn gán giá trị cho một tên được xác định ở cấp cao nhất của chương trình (nghĩa là không nằm trong bất kỳ loại phạm vi nào như hàm hoặc lớp), thì bạn phải nói với Python rằng tên đó không phải là cục bộ, nhưng nó là toàn cục. . Chúng tôi thực hiện việc này bằng cách sử dụng câu lệnh <code> global </code>. Không thể gán giá trị cho một biến được định nghĩa bên ngoài một hàm mà không có câu lệnh toàn cục.\n",
    "\n",
    "Bạn có thể sử dụng các giá trị của các biến như vậy được xác định bên ngoài hàm (giả sử không có biến nào trùng tên trong hàm). Tuy nhiên, điều này không được khuyến khích và nên tránh vì người đọc chương trình trở nên không rõ ràng về định nghĩa của biến đó ở đâu. Việc sử dụng câu lệnh <code> global </code> làm rõ ràng rằng biến được xác định trong khối ngoài cùng.\n",
    "\n",
    "Example:"
   ]
  },
  {
   "cell_type": "code",
   "execution_count": 9,
   "metadata": {},
   "outputs": [
    {
     "name": "stdout",
     "output_type": "stream",
     "text": [
      "Before calling func(), x is:  50\n",
      "This function is now using the global x!\n",
      "Because of global x is:  50\n",
      "Ran func(), changed global x to 2\n",
      "Value of x (outside of func()) is:  2\n"
     ]
    }
   ],
   "source": [
    "x = 50\n",
    "\n",
    "def func():\n",
    "    global x\n",
    "    print('This function is now using the global x!')\n",
    "    print('Because of global x is: ', x)\n",
    "    x = 2\n",
    "    print('Ran func(), changed global x to', x)\n",
    "\n",
    "print('Before calling func(), x is: ', x)\n",
    "func()\n",
    "print('Value of x (outside of func()) is: ', x)"
   ]
  },
  {
   "cell_type": "markdown",
   "metadata": {
    "collapsed": true
   },
   "source": [
    "Câu lệnh <code> global </code> được sử dụng để khai báo rằng ** x ** là một biến toàn cục - do đó, khi chúng ta gán một giá trị cho ** x ** bên trong hàm, sự thay đổi đó được phản ánh khi chúng ta sử dụng giá trị của ** x ** trong khối chính.\n",
    "\n",
    "Bạn có thể chỉ định nhiều hơn một biến toàn cục bằng cách sử dụng cùng một câu lệnh toàn cục, ví dụ: <code> toàn cục x, y, z </code>."
   ]
  },
  {
   "cell_type": "markdown",
   "metadata": {
    "collapsed": true
   },
   "source": [
    "## Conclusion\n",
    "Bây giờ bạn đã hiểu rõ về Phạm vi (có thể bạn đã cảm nhận trực quan về Phạm vi, điều này thật tuyệt!) Một đề cập cuối cùng là bạn có thể sử dụng các hàm ** global () ** và ** local () ** để kiểm tra các biến cục bộ và toàn cục hiện tại của bạn là gì.\n",
    "\n",
    "Một điều khác cần lưu ý là mọi thứ trong Python đều là một đối tượng! Tôi có thể gán các biến cho các hàm giống như tôi có thể làm với các con số! Chúng ta sẽ xem xét lại vấn đề này trong phần decorator khóa học!"
   ]
  },
  {
   "cell_type": "code",
   "execution_count": null,
   "metadata": {},
   "outputs": [],
   "source": []
  }
 ],
 "metadata": {
  "kernelspec": {
   "display_name": "Python 3",
   "language": "python",
   "name": "python3"
  },
  "language_info": {
   "codemirror_mode": {
    "name": "ipython",
    "version": 3
   },
   "file_extension": ".py",
   "mimetype": "text/x-python",
   "name": "python",
   "nbconvert_exporter": "python",
   "pygments_lexer": "ipython3",
   "version": "3.8.5"
  }
 },
 "nbformat": 4,
 "nbformat_minor": 1
}
