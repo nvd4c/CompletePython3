{
 "cells": [
  {
   "cell_type": "markdown",
   "metadata": {},
   "source": [
    "___\n",
    "\n",
    "<a href='https://www.udemy.com/user/joseportilla/'><img src='../Pierian_Data_Logo.png'/></a>\n",
    "___\n",
    "<center><em>Content Copyright by Pierian Data</em></center>"
   ]
  },
  {
   "cell_type": "markdown",
   "metadata": {},
   "source": [
    "# Modules and Packages\n",
    "\n",
    "There's no code here because it didn't really make sense for the section. Check out the video lectures for more info and the resources for this.\n",
    "\n",
    "Here is the best source the official docs!\n",
    "https://docs.python.org/3/tutorial/modules.html#packages\n",
    "\n",
    "But I really like the info here: https://python4astronomers.github.io/installation/packages.html\n",
    "\n",
    "Here's some extra info to help:"
   ]
  },
  {
   "cell_type": "markdown",
   "metadata": {},
   "source": [
    "Mô-đun trong Python chỉ đơn giản là các tệp Python có phần mở rộng .py, thực thi một tập hợp các hàm. Các mô-đun được nhập từ các mô-đun khác bằng lệnh <code> import </code>.\n",
    "\n",
    "Để nhập một mô-đun, chúng tôi sử dụng lệnh <code> import </code>. Kiểm tra danh sách đầy đủ các mô-đun tích hợp trong thư viện chuẩn Python [tại đây] (https://docs.python.org/3/py-modindex.html).\n",
    "\n",
    "Lần đầu tiên một mô-đun được tải vào một tập lệnh Python đang chạy, nó được khởi tạo bằng cách thực thi mã trong mô-đun một lần. Nếu một mô-đun khác trong mã của bạn nhập lại cùng một mô-đun, nó sẽ không được tải hai lần mà chỉ một lần - vì vậy các biến cục bộ bên trong mô-đun hoạt động như một \"singleton\" - chúng chỉ được khởi tạo một lần.\n",
    "\n",
    "Nếu chúng ta muốn nhập mô-đun toán học, chúng tôi chỉ cần nhập tên của mô-đun:"
   ]
  },
  {
   "cell_type": "code",
   "execution_count": 1,
   "metadata": {
    "collapsed": true
   },
   "outputs": [],
   "source": [
    "# import the library\n",
    "import math"
   ]
  },
  {
   "cell_type": "code",
   "execution_count": 2,
   "metadata": {},
   "outputs": [
    {
     "data": {
      "text/plain": [
       "3"
      ]
     },
     "execution_count": 2,
     "metadata": {},
     "output_type": "execute_result"
    }
   ],
   "source": [
    "# use it (ceiling rounding)\n",
    "math.ceil(2.4)"
   ]
  },
  {
   "cell_type": "markdown",
   "metadata": {},
   "source": [
    "## Khám phá các mô-đun tích hợp sẵn\n",
    "Hai hàm rất quan trọng có ích khi khám phá các mô-đun trong Python - hàm <code> dir </code> và <code> help </code>.\n",
    "\n",
    "Chúng tôi có thể tìm kiếm những chức năng nào được triển khai trong mỗi mô-đun bằng cách sử dụng hàm <code> dir </code>:"
   ]
  },
  {
   "cell_type": "code",
   "execution_count": 3,
   "metadata": {},
   "outputs": [
    {
     "name": "stdout",
     "output_type": "stream",
     "text": [
      "['__doc__', '__loader__', '__name__', '__package__', '__spec__', 'acos', 'acosh', 'asin', 'asinh', 'atan', 'atan2', 'atanh', 'ceil', 'copysign', 'cos', 'cosh', 'degrees', 'e', 'erf', 'erfc', 'exp', 'expm1', 'fabs', 'factorial', 'floor', 'fmod', 'frexp', 'fsum', 'gamma', 'gcd', 'hypot', 'inf', 'isclose', 'isfinite', 'isinf', 'isnan', 'ldexp', 'lgamma', 'log', 'log10', 'log1p', 'log2', 'modf', 'nan', 'pi', 'pow', 'radians', 'sin', 'sinh', 'sqrt', 'tan', 'tanh', 'tau', 'trunc']\n"
     ]
    }
   ],
   "source": [
    "print(dir(math))"
   ]
  },
  {
   "cell_type": "markdown",
   "metadata": {},
   "source": [
    "When we find the function in the module we want to use, we can read about it more using the <code>help</code> function, inside the Python interpreter:\n",
    "\n"
   ]
  },
  {
   "cell_type": "code",
   "execution_count": 4,
   "metadata": {},
   "outputs": [
    {
     "name": "stdout",
     "output_type": "stream",
     "text": [
      "Help on built-in function ceil in module math:\n",
      "\n",
      "ceil(...)\n",
      "    ceil(x)\n",
      "    \n",
      "    Return the ceiling of x as an Integral.\n",
      "    This is the smallest integer >= x.\n",
      "\n"
     ]
    }
   ],
   "source": [
    "help(math.ceil)"
   ]
  },
  {
   "cell_type": "markdown",
   "metadata": {},
   "source": [
    "## Writing modules\n",
    "Viết các mô-đun Python rất đơn giản. Để tạo một mô-đun của riêng bạn, chỉ cần tạo một tệp .py mới với tên mô-đun, sau đó nhập tệp đó bằng tên tệp Python (không có phần mở rộng .py) bằng lệnh import.\n",
    "## Writing packages\n",
    "Packages là không gian tên chứa nhiều package và mô-đun. Chúng chỉ đơn giản là các thư mục, nhưng có một sự thay đổi.\n",
    "\n",
    "Mỗi package trong Python là một thư mục PHẢI chứa một tệp đặc biệt có tên ** \\ __ init \\ __. Py **. Tệp này có thể trống và nó chỉ ra rằng thư mục mà nó chứa là một gói Python, vì vậy nó có thể được nhập giống như cách một mô-đun có thể được nhập.\n",
    "\n",
    "Nếu chúng ta tạo một thư mục tên là foo, đánh dấu tên gói, thì chúng ta có thể tạo một mô-đun bên trong gói đó có tên là bar. Chúng ta cũng không được quên thêm tệp ** \\ __ init \\ __. Py ** vào trong thư mục foo.\n",
    "\n",
    "Để sử dụng thanh mô-đun, chúng ta có thể nhập nó theo hai cách:"
   ]
  },
  {
   "cell_type": "code",
   "execution_count": null,
   "metadata": {
    "collapsed": true
   },
   "outputs": [],
   "source": [
    "# Just an example, this won't work\n",
    "import foo.bar"
   ]
  },
  {
   "cell_type": "code",
   "execution_count": null,
   "metadata": {
    "collapsed": true
   },
   "outputs": [],
   "source": [
    "# OR could do it this way\n",
    "from foo import bar"
   ]
  },
  {
   "cell_type": "markdown",
   "metadata": {},
   "source": [
    "Trong phương pháp đầu tiên, chúng ta phải sử dụng tiền tố foo bất cứ khi nào chúng ta truy cập vào thanh mô-đun. Trong phương pháp thứ hai, chúng tôi không làm như vậy vì chúng tôi nhập mô-đun vào không gian tên của mô-đun của chúng tôi.\n",
    "\n",
    "Tệp ** \\ __ init \\ __. Py ** cũng có thể quyết định mô-đun nào mà package exports dưới dạng API, trong khi vẫn giữ các mô-đun khác bên trong, bằng cách ghi đè biến ** \\ __ all \\ __ **, như sau:"
   ]
  },
  {
   "cell_type": "code",
   "execution_count": null,
   "metadata": {
    "collapsed": true
   },
   "outputs": [],
   "source": [
    "__init__.py:\n",
    "\n",
    "__all__ = [\"bar\"]"
   ]
  }
 ],
 "metadata": {
  "kernelspec": {
   "display_name": "Python 3",
   "language": "python",
   "name": "python3"
  },
  "language_info": {
   "codemirror_mode": {
    "name": "ipython",
    "version": 3
   },
   "file_extension": ".py",
   "mimetype": "text/x-python",
   "name": "python",
   "nbconvert_exporter": "python",
   "pygments_lexer": "ipython3",
   "version": "3.8.5"
  }
 },
 "nbformat": 4,
 "nbformat_minor": 1
}
