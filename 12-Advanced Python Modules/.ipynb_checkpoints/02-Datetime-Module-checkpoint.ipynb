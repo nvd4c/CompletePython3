{
 "cells": [
  {
   "cell_type": "markdown",
   "metadata": {},
   "source": [
    "___\n",
    "\n",
    "<a href='https://www.udemy.com/user/joseportilla/'><img src='../Pierian_Data_Logo.png'/></a>\n",
    "___\n",
    "<center><em>Content Copyright by Pierian Data</em></center>"
   ]
  },
  {
   "cell_type": "markdown",
   "metadata": {},
   "source": [
    "# datetime module\n",
    "Python có mô-đun datetime để giúp xử lý dấu thời gian trong mã của bạn. Giá trị thời gian được biểu diễn với lớp thời gian. Thời gian có các thuộc tính giờ, phút, giây và micro giây. Chúng cũng có thể bao gồm thông tin múi giờ. Các đối số để khởi tạo một phiên bản thời gian là tùy chọn, nhưng mặc định là 0 có thể không phải là những gì bạn muốn.\n",
    "\n",
    "## time\n",
    "Hãy xem cách chúng ta có thể trích xuất thông tin thời gian từ mô-đun datetime. Chúng ta có thể tạo dấu thời gian bằng cách chỉ định datetime.time (giờ, phút, giây, micro giây)"
   ]
  },
  {
   "cell_type": "code",
   "execution_count": 1,
   "metadata": {},
   "outputs": [
    {
     "name": "stdout",
     "output_type": "stream",
     "text": [
      "04:20:01\n",
      "hour  : 4\n",
      "minute: 20\n",
      "second: 1\n",
      "microsecond: 0\n",
      "tzinfo: None\n"
     ]
    }
   ],
   "source": [
    "import datetime\n",
    "\n",
    "t = datetime.time(4, 20, 1)\n",
    "\n",
    "# Let's show the different components\n",
    "print(t)\n",
    "print('hour  :', t.hour)\n",
    "print('minute:', t.minute)\n",
    "print('second:', t.second)\n",
    "print('microsecond:', t.microsecond)\n",
    "print('tzinfo:', t.tzinfo)"
   ]
  },
  {
   "cell_type": "markdown",
   "metadata": {},
   "source": [
    "Lưu ý: Một phiên bản thời gian chỉ lưu giữ các giá trị của thời gian chứ không phải ngày được kết hợp với thời gian.\n",
    "\n",
    "Chúng tôi cũng có thể kiểm tra các giá trị tối thiểu và tối đa mà một thời điểm trong ngày có thể có trong mô-đun:"
   ]
  },
  {
   "cell_type": "code",
   "execution_count": 2,
   "metadata": {},
   "outputs": [
    {
     "name": "stdout",
     "output_type": "stream",
     "text": [
      "Earliest  : 00:00:00\n",
      "Latest    : 23:59:59.999999\n",
      "Resolution: 0:00:00.000001\n"
     ]
    }
   ],
   "source": [
    "print('Earliest  :', datetime.time.min)\n",
    "print('Latest    :', datetime.time.max)\n",
    "print('Resolution:', datetime.time.resolution)"
   ]
  },
  {
   "cell_type": "markdown",
   "metadata": {},
   "source": [
    "Thuộc tính lớp tối thiểu và tối đa phản ánh phạm vi thời gian hợp lệ trong một ngày."
   ]
  },
  {
   "cell_type": "markdown",
   "metadata": {},
   "source": [
    "## Dates\n",
    "datetime (như bạn có thể nghi ngờ) cũng cho phép chúng tôi làm việc với các dấu thời gian ngày. Giá trị ngày lịch được biểu thị bằng lớp ngày. Phiên bản có các thuộc tính cho năm, tháng và ngày. Thật dễ dàng để tạo một ngày đại diện cho ngày hôm nay bằng cách sử dụng phương thức lớp today ().\n",
    "\n",
    "Hãy xem một số ví dụ:"
   ]
  },
  {
   "cell_type": "code",
   "execution_count": 3,
   "metadata": {},
   "outputs": [
    {
     "name": "stdout",
     "output_type": "stream",
     "text": [
      "2021-07-28\n",
      "ctime: Wed Jul 28 00:00:00 2021\n",
      "tuple: time.struct_time(tm_year=2021, tm_mon=7, tm_mday=28, tm_hour=0, tm_min=0, tm_sec=0, tm_wday=2, tm_yday=209, tm_isdst=-1)\n",
      "ordinal: 737999\n",
      "Year : 2021\n",
      "Month: 7\n",
      "Day  : 28\n"
     ]
    }
   ],
   "source": [
    "today = datetime.date.today()\n",
    "print(today)\n",
    "print('ctime:', today.ctime())\n",
    "print('tuple:', today.timetuple())\n",
    "print('ordinal:', today.toordinal())\n",
    "print('Year :', today.year)\n",
    "print('Month:', today.month)\n",
    "print('Day  :', today.day)"
   ]
  },
  {
   "cell_type": "markdown",
   "metadata": {},
   "source": [
    "Theo thời gian, phạm vi giá trị ngày được hỗ trợ có thể được xác định bằng cách sử dụng các thuộc tính tối thiểu và tối đa."
   ]
  },
  {
   "cell_type": "code",
   "execution_count": 4,
   "metadata": {},
   "outputs": [
    {
     "name": "stdout",
     "output_type": "stream",
     "text": [
      "Earliest  : 0001-01-01\n",
      "Latest    : 9999-12-31\n",
      "Resolution: 1 day, 0:00:00\n"
     ]
    }
   ],
   "source": [
    "print('Earliest  :', datetime.date.min)\n",
    "print('Latest    :', datetime.date.max)\n",
    "print('Resolution:', datetime.date.resolution)"
   ]
  },
  {
   "cell_type": "markdown",
   "metadata": {},
   "source": [
    "Một cách khác để tạo các phiên bản ngày mới là sử dụng phương thức Replace () của một ngày hiện có. Ví dụ, bạn có thể thay đổi năm, để nguyên ngày và tháng."
   ]
  },
  {
   "cell_type": "code",
   "execution_count": 5,
   "metadata": {},
   "outputs": [
    {
     "name": "stdout",
     "output_type": "stream",
     "text": [
      "d1: 2015-03-11\n",
      "d2: 1990-03-11\n"
     ]
    }
   ],
   "source": [
    "d1 = datetime.date(2015, 3, 11)\n",
    "print('d1:', d1)\n",
    "\n",
    "d2 = d1.replace(year=1990)\n",
    "print('d2:', d2)"
   ]
  },
  {
   "cell_type": "markdown",
   "metadata": {},
   "source": [
    "# Arithmetic\n",
    "Chúng ta có thể thực hiện số học trên các đối tượng ngày tháng để kiểm tra sự khác biệt về thời gian. Ví dụ"
   ]
  },
  {
   "cell_type": "code",
   "execution_count": 6,
   "metadata": {},
   "outputs": [
    {
     "data": {
      "text/plain": [
       "datetime.date(2015, 3, 11)"
      ]
     },
     "execution_count": 6,
     "metadata": {},
     "output_type": "execute_result"
    }
   ],
   "source": [
    "d1"
   ]
  },
  {
   "cell_type": "code",
   "execution_count": 7,
   "metadata": {},
   "outputs": [
    {
     "data": {
      "text/plain": [
       "datetime.date(1990, 3, 11)"
      ]
     },
     "execution_count": 7,
     "metadata": {},
     "output_type": "execute_result"
    }
   ],
   "source": [
    "d2"
   ]
  },
  {
   "cell_type": "code",
   "execution_count": 8,
   "metadata": {},
   "outputs": [
    {
     "data": {
      "text/plain": [
       "datetime.timedelta(9131)"
      ]
     },
     "execution_count": 8,
     "metadata": {},
     "output_type": "execute_result"
    }
   ],
   "source": [
    "d1-d2"
   ]
  },
  {
   "cell_type": "markdown",
   "metadata": {},
   "source": [
    "Điều này cho chúng ta sự khác biệt về ngày giữa hai ngày. Bạn có thể sử dụng phương pháp hẹn giờ để chỉ định các đơn vị thời gian khác nhau (ngày, phút, giờ, v.v.)\n",
    "\n",
    "Tuyệt vời! Bây giờ bạn sẽ có hiểu biết cơ bản về cách sử dụng datetime với Python để làm việc với dấu thời gian trong mã của bạn!"
   ]
  },
  {
   "cell_type": "code",
   "execution_count": null,
   "metadata": {},
   "outputs": [],
   "source": []
  }
 ],
 "metadata": {
  "kernelspec": {
   "display_name": "Python 3",
   "language": "python",
   "name": "python3"
  },
  "language_info": {
   "codemirror_mode": {
    "name": "ipython",
    "version": 3
   },
   "file_extension": ".py",
   "mimetype": "text/x-python",
   "name": "python",
   "nbconvert_exporter": "python",
   "pygments_lexer": "ipython3",
   "version": "3.8.5"
  }
 },
 "nbformat": 4,
 "nbformat_minor": 1
}
