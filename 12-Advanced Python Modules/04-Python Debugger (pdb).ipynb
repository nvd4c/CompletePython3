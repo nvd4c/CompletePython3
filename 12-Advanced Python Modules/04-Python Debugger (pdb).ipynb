{
 "cells": [
  {
   "cell_type": "markdown",
   "metadata": {},
   "source": [
    "___\n",
    "\n",
    "<a href='https://www.udemy.com/user/joseportilla/'><img src='../Pierian_Data_Logo.png'/></a>\n",
    "___\n",
    "<center><em>Content Copyright by Pierian Data</em></center>"
   ]
  },
  {
   "cell_type": "markdown",
   "metadata": {},
   "source": [
    "# Python Debugger\n",
    "\n",
    "Bạn có thể đã sử dụng nhiều câu lệnh in khác nhau để cố gắng tìm lỗi trong mã của mình. Một cách tốt hơn để làm điều này là sử dụng mô-đun trình gỡ lỗi tích hợp của Python (pdb). Mô-đun pdb triển khai một môi trường gỡ lỗi tương tác cho các chương trình Python. Nó bao gồm các tính năng cho phép bạn tạm dừng chương trình của mình, xem xét giá trị của các biến và theo dõi quá trình thực thi chương trình từng bước, vì vậy bạn có thể hiểu chương trình của mình thực sự làm gì và tìm ra lỗi trong logic.\n",
    "\n",
    "Điều này hơi khó để hiển thị vì nó yêu cầu tạo ra một lỗi có chủ ý, nhưng hy vọng ví dụ đơn giản này minh họa sức mạnh của mô-đun pdb. <br> * Lưu ý: Hãy nhớ rằng sẽ khá bất thường nếu sử dụng pdb trong cài đặt Jupyter Notebook. *\n",
    "\n",
    "___\n",
    "Ở đây, chúng tôi sẽ cố tình tạo ra một lỗi, cố gắng thêm danh sách vào một số nguyên"
   ]
  },
  {
   "cell_type": "code",
   "execution_count": 1,
   "metadata": {},
   "outputs": [
    {
     "name": "stdout",
     "output_type": "stream",
     "text": [
      "5\n"
     ]
    },
    {
     "ename": "TypeError",
     "evalue": "unsupported operand type(s) for +: 'int' and 'list'",
     "output_type": "error",
     "traceback": [
      "\u001b[1;31m---------------------------------------------------------------------------\u001b[0m",
      "\u001b[1;31mTypeError\u001b[0m                                 Traceback (most recent call last)",
      "\u001b[1;32m<ipython-input-1-e7e4af986cb2>\u001b[0m in \u001b[0;36m<module>\u001b[1;34m\u001b[0m\n\u001b[0;32m      5\u001b[0m \u001b[0mresult\u001b[0m \u001b[1;33m=\u001b[0m \u001b[0my\u001b[0m \u001b[1;33m+\u001b[0m \u001b[0mz\u001b[0m\u001b[1;33m\u001b[0m\u001b[1;33m\u001b[0m\u001b[0m\n\u001b[0;32m      6\u001b[0m \u001b[0mprint\u001b[0m\u001b[1;33m(\u001b[0m\u001b[0mresult\u001b[0m\u001b[1;33m)\u001b[0m\u001b[1;33m\u001b[0m\u001b[1;33m\u001b[0m\u001b[0m\n\u001b[1;32m----> 7\u001b[1;33m \u001b[0mresult2\u001b[0m \u001b[1;33m=\u001b[0m \u001b[0my\u001b[0m\u001b[1;33m+\u001b[0m\u001b[0mx\u001b[0m\u001b[1;33m\u001b[0m\u001b[1;33m\u001b[0m\u001b[0m\n\u001b[0m\u001b[0;32m      8\u001b[0m \u001b[0mprint\u001b[0m\u001b[1;33m(\u001b[0m\u001b[0mresult2\u001b[0m\u001b[1;33m)\u001b[0m\u001b[1;33m\u001b[0m\u001b[1;33m\u001b[0m\u001b[0m\n",
      "\u001b[1;31mTypeError\u001b[0m: unsupported operand type(s) for +: 'int' and 'list'"
     ]
    }
   ],
   "source": [
    "x = [1,3,4]\n",
    "y = 2\n",
    "z = 3\n",
    "\n",
    "result = y + z\n",
    "print(result)\n",
    "result2 = y+x\n",
    "print(result2)"
   ]
  },
  {
   "cell_type": "markdown",
   "metadata": {},
   "source": [
    "Hmmm, có vẻ như chúng tôi gặp lỗi! Hãy triển khai set_trace() bằng cách sử dụng mô-đun pdb. Điều này sẽ cho phép chúng tôi về cơ bản tạm dừng mã tại điểm theo dõi và kiểm tra xem có gì sai không."
   ]
  },
  {
   "cell_type": "code",
   "execution_count": null,
   "metadata": {},
   "outputs": [],
   "source": [
    "import pdb\n",
    "\n",
    "x = [1,3,4]\n",
    "y = 2\n",
    "z = 3\n",
    "\n",
    "result = y + z\n",
    "print(result)\n",
    "\n",
    "# Set a trace using Python Debugger\n",
    "\n",
    "pdb.set_trace()\n",
    "result2 = y+x\n",
    "print(result2)\n"
   ]
  },
  {
   "cell_type": "markdown",
   "metadata": {},
   "source": [
    "Tuyệt vời! Bây giờ chúng ta có thể kiểm tra xem các biến khác nhau là gì và kiểm tra lỗi. Bạn có thể sử dụng 'q' để thoát khỏi trình gỡ lỗi. Để biết thêm thông tin về các kỹ thuật gỡ lỗi chung và các phương pháp khác, hãy xem tài liệu chính thức:\n",
    "https://docs.python.org/3/library/pdb.html"
   ]
  }
 ],
 "metadata": {
  "kernelspec": {
   "display_name": "Python 3",
   "language": "python",
   "name": "python3"
  },
  "language_info": {
   "codemirror_mode": {
    "name": "ipython",
    "version": 3
   },
   "file_extension": ".py",
   "mimetype": "text/x-python",
   "name": "python",
   "nbconvert_exporter": "python",
   "pygments_lexer": "ipython3",
   "version": "3.8.5"
  }
 },
 "nbformat": 4,
 "nbformat_minor": 1
}
