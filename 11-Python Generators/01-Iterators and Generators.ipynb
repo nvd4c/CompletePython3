{
 "cells": [
  {
   "cell_type": "markdown",
   "metadata": {},
   "source": [
    "___\n",
    "\n",
    "<a href='https://www.udemy.com/user/joseportilla/'><img src='../Pierian_Data_Logo.png'/></a>\n",
    "___\n",
    "<center><em>Content Copyright by Pierian Data</em></center>"
   ]
  },
  {
   "cell_type": "markdown",
   "metadata": {},
   "source": [
    "# Iterators and Generators"
   ]
  },
  {
   "cell_type": "markdown",
   "metadata": {},
   "source": [
    "Trong phần này của khóa học, chúng ta sẽ tìm hiểu sự khác biệt giữa lặp và generation trong Python cũng như cách xây dựng Trình tạo của riêng chúng ta bằng câu lệnh * yield *. Generators cho phép chúng tôi tạo ra khi chúng tôi tiếp tục, thay vì giữ mọi thứ trong bộ nhớ.\n",
    "\n",
    "Trước đây, chúng tôi đã đề cập đến chủ đề này khi thảo luận về một số hàm tích hợp sẵn trong Python như **range()**, **map() ** và **filter()**.\n",
    "\n",
    "Hãy cùng khám phá sâu hơn một chút. Chúng ta đã học cách tạo các hàm với <code>def</code> và câu lệnh <code> return </code>. Các hàm của bộ Generator cho phép chúng ta viết một hàm có thể gửi lại một giá trị và sau đó tiếp tục lại để bắt đầu lại nó. Loại hàm này là một trình tạo trong Python, cho phép chúng ta tạo một chuỗi giá trị theo thời gian. Sự khác biệt chính về cú pháp sẽ là việc sử dụng câu lệnh <code> yield </code>.\n",
    "\n",
    "Trong hầu hết các khía cạnh, một hàm tạo sẽ xuất hiện rất giống với một hàm bình thường. Sự khác biệt chính là khi một hàm trình tạo được biên dịch, chúng trở thành một đối tượng hỗ trợ giao thức lặp. Điều đó có nghĩa là khi chúng được gọi trong mã của bạn, chúng không thực sự trả về một giá trị và sau đó thoát ra. Thay vào đó, các hàm của trình tạo sẽ tự động tạm dừng và tiếp tục thực thi và trạng thái của chúng xung quanh điểm tạo giá trị cuối cùng. Ưu điểm chính ở đây là thay vì phải tính toán trước toàn bộ một chuỗi giá trị, trình tạo sẽ tính một giá trị và sau đó tạm dừng hoạt động của nó để chờ lệnh tiếp theo. Tính năng này được gọi là * trạng thái tạm ngưng * (state suspension)\n",
    "\n",
    "\n",
    "￼￼Để bắt đầu hiểu rõ hơn, chúng ta hãy tiếp tục và xem"
   ]
  },
  {
   "cell_type": "code",
   "execution_count": 1,
   "metadata": {},
   "outputs": [],
   "source": [
    "# Generator function cho khối số (lũy thừa của 3)\n",
    "def gencubes(n):\n",
    "    for num in range(n):\n",
    "        yield num**3"
   ]
  },
  {
   "cell_type": "code",
   "execution_count": 2,
   "metadata": {},
   "outputs": [
    {
     "name": "stdout",
     "output_type": "stream",
     "text": [
      "0\n",
      "1\n",
      "8\n",
      "27\n",
      "64\n",
      "125\n",
      "216\n",
      "343\n",
      "512\n",
      "729\n"
     ]
    }
   ],
   "source": [
    "for x in gencubes(10):\n",
    "    print(x)"
   ]
  },
  {
   "cell_type": "markdown",
   "metadata": {},
   "source": [
    "Tuyệt vời! Bây giờ vì chúng ta có một hàm generator, chúng ta không phải theo dõi từng khối lập phương mà chúng ta đã tạo.\n",
    "\n",
    "Trình tạo là tốt nhất để tính toán các bộ kết quả lớn (đặc biệt trong các phép tính liên quan đến chính các vòng lặp) trong trường hợp chúng tôi không muốn phân bổ bộ nhớ cho tất cả các kết quả cùng một lúc.\n",
    "\n",
    "Hãy tạo một trình tạo ví dụ khác tính toán số [fibonacci] (https://en.wikipedia.org/wiki/Fibonacci_number):"
   ]
  },
  {
   "cell_type": "code",
   "execution_count": 3,
   "metadata": {},
   "outputs": [],
   "source": [
    "def genfibon(n):\n",
    "    \"\"\"\n",
    "    Generate a fibonnaci sequence up to n\n",
    "    \"\"\"\n",
    "    a = 1\n",
    "    b = 1\n",
    "    for i in range(n):\n",
    "        yield a\n",
    "        a,b = b,a+b"
   ]
  },
  {
   "cell_type": "code",
   "execution_count": 4,
   "metadata": {},
   "outputs": [
    {
     "name": "stdout",
     "output_type": "stream",
     "text": [
      "1\n",
      "1\n",
      "2\n",
      "3\n",
      "5\n",
      "8\n",
      "13\n",
      "21\n",
      "34\n",
      "55\n"
     ]
    }
   ],
   "source": [
    "for num in genfibon(10):\n",
    "    print(num)"
   ]
  },
  {
   "cell_type": "markdown",
   "metadata": {},
   "source": [
    "Điều gì sẽ xảy ra nếu đây là một chức năng bình thường, nó sẽ như thế nào?"
   ]
  },
  {
   "cell_type": "code",
   "execution_count": 5,
   "metadata": {
    "collapsed": true
   },
   "outputs": [],
   "source": [
    "def fibon(n):\n",
    "    a = 1\n",
    "    b = 1\n",
    "    output = []\n",
    "    \n",
    "    for i in range(n):\n",
    "        output.append(a)\n",
    "        a,b = b,a+b\n",
    "        \n",
    "    return output"
   ]
  },
  {
   "cell_type": "code",
   "execution_count": 6,
   "metadata": {},
   "outputs": [
    {
     "data": {
      "text/plain": [
       "[1, 1, 2, 3, 5, 8, 13, 21, 34, 55]"
      ]
     },
     "execution_count": 6,
     "metadata": {},
     "output_type": "execute_result"
    }
   ],
   "source": [
    "fibon(10)"
   ]
  },
  {
   "cell_type": "markdown",
   "metadata": {},
   "source": [
    "Lưu ý rằng nếu chúng ta gọi một giá trị lớn nào đó của n (như 100000) thì hàm thứ hai sẽ phải theo dõi mọi kết quả đơn lẻ, trong khi trong trường hợp của chúng ta, chúng ta thực sự chỉ quan tâm đến kết quả trước đó để tạo kết quả tiếp theo!\n",
    "\n",
    "## next() and iter() built-in functions\n",
    "\n",
    "Chìa khóa để hiểu đầy đủ về bộ tạo là hàm next () và hàm iter ().\n",
    "\n",
    "Hàm next () cho phép chúng ta truy cập phần tử tiếp theo trong một chuỗi. Hãy cùng kiểm tra nào:"
   ]
  },
  {
   "cell_type": "code",
   "execution_count": 7,
   "metadata": {
    "collapsed": true
   },
   "outputs": [],
   "source": [
    "def simple_gen():\n",
    "    for x in range(3):\n",
    "        yield x"
   ]
  },
  {
   "cell_type": "code",
   "execution_count": 8,
   "metadata": {
    "collapsed": true
   },
   "outputs": [],
   "source": [
    "# Assign simple_gen \n",
    "g = simple_gen()"
   ]
  },
  {
   "cell_type": "code",
   "execution_count": 9,
   "metadata": {},
   "outputs": [
    {
     "name": "stdout",
     "output_type": "stream",
     "text": [
      "0\n"
     ]
    }
   ],
   "source": [
    "print(next(g))"
   ]
  },
  {
   "cell_type": "code",
   "execution_count": 10,
   "metadata": {},
   "outputs": [
    {
     "name": "stdout",
     "output_type": "stream",
     "text": [
      "1\n"
     ]
    }
   ],
   "source": [
    "print(next(g))"
   ]
  },
  {
   "cell_type": "code",
   "execution_count": 11,
   "metadata": {},
   "outputs": [
    {
     "name": "stdout",
     "output_type": "stream",
     "text": [
      "2\n"
     ]
    }
   ],
   "source": [
    "print(next(g))"
   ]
  },
  {
   "cell_type": "code",
   "execution_count": 12,
   "metadata": {},
   "outputs": [
    {
     "ename": "StopIteration",
     "evalue": "",
     "output_type": "error",
     "traceback": [
      "\u001b[1;31m---------------------------------------------------------------------------\u001b[0m",
      "\u001b[1;31mStopIteration\u001b[0m                             Traceback (most recent call last)",
      "\u001b[1;32m<ipython-input-12-1dfb29d6357e>\u001b[0m in \u001b[0;36m<module>\u001b[1;34m()\u001b[0m\n\u001b[1;32m----> 1\u001b[1;33m \u001b[0mprint\u001b[0m\u001b[1;33m(\u001b[0m\u001b[0mnext\u001b[0m\u001b[1;33m(\u001b[0m\u001b[0mg\u001b[0m\u001b[1;33m)\u001b[0m\u001b[1;33m)\u001b[0m\u001b[1;33m\u001b[0m\u001b[0m\n\u001b[0m",
      "\u001b[1;31mStopIteration\u001b[0m: "
     ]
    }
   ],
   "source": [
    "print(next(g))"
   ]
  },
  {
   "cell_type": "markdown",
   "metadata": {},
   "source": [
    "Sau khi cung cấp tất cả các giá trị, next () gây ra lỗi StopIteration. Những gì lỗi này thông báo cho chúng tôi là tất cả các giá trị đã được tạo ra.\n",
    "\n",
    "Bạn có thể tự hỏi rằng tại sao chúng tôi không gặp lỗi này khi sử dụng vòng lặp for? Vòng lặp for tự động bắt lỗi này và ngừng gọi next ().\n",
    "\n",
    "Hãy tiếp tục và kiểm tra cách sử dụng iter (). Bạn nhớ rằng các chuỗi là các chuỗi lặp lại:"
   ]
  },
  {
   "cell_type": "code",
   "execution_count": 13,
   "metadata": {},
   "outputs": [
    {
     "name": "stdout",
     "output_type": "stream",
     "text": [
      "h\n",
      "e\n",
      "l\n",
      "l\n",
      "o\n"
     ]
    }
   ],
   "source": [
    "s = 'hello'\n",
    "\n",
    "#Iterate over string\n",
    "for let in s:\n",
    "    print(let)"
   ]
  },
  {
   "cell_type": "markdown",
   "metadata": {},
   "source": [
    "Nhưng điều đó không có nghĩa là bản thân chuỗi là một * vòng lặp *! Chúng ta có thể kiểm tra điều này bằng hàm next ():"
   ]
  },
  {
   "cell_type": "code",
   "execution_count": 14,
   "metadata": {},
   "outputs": [
    {
     "ename": "TypeError",
     "evalue": "'str' object is not an iterator",
     "output_type": "error",
     "traceback": [
      "\u001b[1;31m---------------------------------------------------------------------------\u001b[0m",
      "\u001b[1;31mTypeError\u001b[0m                                 Traceback (most recent call last)",
      "\u001b[1;32m<ipython-input-14-61c30b5fe1d5>\u001b[0m in \u001b[0;36m<module>\u001b[1;34m()\u001b[0m\n\u001b[1;32m----> 1\u001b[1;33m \u001b[0mnext\u001b[0m\u001b[1;33m(\u001b[0m\u001b[0ms\u001b[0m\u001b[1;33m)\u001b[0m\u001b[1;33m\u001b[0m\u001b[0m\n\u001b[0m",
      "\u001b[1;31mTypeError\u001b[0m: 'str' object is not an iterator"
     ]
    }
   ],
   "source": [
    "next(s)"
   ]
  },
  {
   "cell_type": "markdown",
   "metadata": {},
   "source": [
    "Thật thú vị, điều này có nghĩa là một đối tượng chuỗi hỗ trợ lặp lại, nhưng chúng ta không thể trực tiếp lặp lại nó như chúng ta có thể làm với một hàm trình tạo. Hàm iter () cho phép chúng ta làm điều đó!"
   ]
  },
  {
   "cell_type": "code",
   "execution_count": 15,
   "metadata": {
    "collapsed": true
   },
   "outputs": [],
   "source": [
    "s_iter = iter(s)"
   ]
  },
  {
   "cell_type": "code",
   "execution_count": 16,
   "metadata": {},
   "outputs": [
    {
     "data": {
      "text/plain": [
       "'h'"
      ]
     },
     "execution_count": 16,
     "metadata": {},
     "output_type": "execute_result"
    }
   ],
   "source": [
    "next(s_iter)"
   ]
  },
  {
   "cell_type": "code",
   "execution_count": 17,
   "metadata": {},
   "outputs": [
    {
     "data": {
      "text/plain": [
       "'e'"
      ]
     },
     "execution_count": 17,
     "metadata": {},
     "output_type": "execute_result"
    }
   ],
   "source": [
    "next(s_iter)"
   ]
  },
  {
   "cell_type": "markdown",
   "metadata": {},
   "source": [
    "Tuyệt vời! Bây giờ bạn đã biết cách chuyển đổi các đối tượng có thể lặp lại thành các trình vòng lặp! (iterable into iterators themselves!)\n",
    "\n",
    "Điểm rút ra chính từ bài giảng này là việc sử dụng từ khóa yield tại một hàm sẽ làm cho hàm trở thành một bộ tạo. Thay đổi này có thể giúp bạn tiết kiệm rất nhiều bộ nhớ cho các trường hợp sử dụng lớn. Để biết thêm thông tin về generator, hãy xem:\n",
    "\n",
    "[Stack Overflow Answer](http://stackoverflow.com/questions/1756096/understanding-generators-in-python)\n",
    "\n",
    "[Another StackOverflow Answer](http://stackoverflow.com/questions/231767/what-does-the-yield-keyword-do-in-python)"
   ]
  },
  {
   "cell_type": "code",
   "execution_count": null,
   "metadata": {},
   "outputs": [],
   "source": []
  }
 ],
 "metadata": {
  "kernelspec": {
   "display_name": "Python 3",
   "language": "python",
   "name": "python3"
  },
  "language_info": {
   "codemirror_mode": {
    "name": "ipython",
    "version": 3
   },
   "file_extension": ".py",
   "mimetype": "text/x-python",
   "name": "python",
   "nbconvert_exporter": "python",
   "pygments_lexer": "ipython3",
   "version": "3.8.5"
  }
 },
 "nbformat": 4,
 "nbformat_minor": 1
}
