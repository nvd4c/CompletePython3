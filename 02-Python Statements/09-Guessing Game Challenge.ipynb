{
 "cells": [
  {
   "cell_type": "markdown",
   "metadata": {},
   "source": [
    "___\n",
    "\n",
    "<a href='https://www.udemy.com/user/joseportilla/'><img src='../Pierian_Data_Logo.png'/></a>\n",
    "___\n",
    "<center><em>Content Copyright by Pierian Data</em></center>"
   ]
  },
  {
   "cell_type": "markdown",
   "metadata": {},
   "source": [
    "# Guessing Game Challenge\n",
    "\n",
    "Let's use `while` loops to create a guessing game.\n",
    "\n",
    "The Challenge:\n",
    "\n",
    "Viết một chương trình chọn một số nguyên ngẫu nhiên từ 1 đến 100 và để người chơi đoán số. Các quy tắc là:\n",
    "\n",
    "1. Nếu dự đoán của người chơi nhỏ hơn 1 hoặc lớn hơn 100, hãy nói \"ngu vl\"\n",
    "2. Trong lượt đầu tiên của người chơi, nếu dự đoán của họ là\n",
    " * trong vòng 10 số, trả về \"WARM!\"\n",
    " * xa hơn 10 từ số, trả về \"LẠNH!\"\n",
    "3. Ở tất cả các lượt tiếp theo, nếu đoán là\n",
    " * gần với số hơn so với dự đoán trước đó trả về \"WARMER!\"\n",
    " * xa hơn số so với dự đoán trước đó, trả về \"COLDER!\"\n",
    "4. Khi kết quả đoán của người chơi bằng số, hãy cho họ biết họ đã đoán đúng * và * đã đoán được bao nhiêu!\n",
    "\n",
    "Bạn có thể thử điều này từ đầu hoặc làm theo các bước được nêu bên dưới. Một sổ ghi chép Giải pháp riêng đã được cung cấp. Chúc may mắn!\n"
   ]
  },
  {
   "cell_type": "markdown",
   "metadata": {},
   "source": [
    "#### First, pick a random integer from 1 to 100 using the random module and assign it to a variable\n",
    "\n",
    "Note: `random.randint(a,b)` returns a random integer in range `[a, b]`, including both end points."
   ]
  },
  {
   "cell_type": "code",
   "execution_count": null,
   "metadata": {
    "collapsed": true
   },
   "outputs": [],
   "source": []
  },
  {
   "cell_type": "markdown",
   "metadata": {},
   "source": [
    "#### Next, print an introduction to the game and explain the rules"
   ]
  },
  {
   "cell_type": "code",
   "execution_count": null,
   "metadata": {
    "collapsed": true
   },
   "outputs": [],
   "source": []
  },
  {
   "cell_type": "markdown",
   "metadata": {},
   "source": [
    "#### Create a list to store guesses\n",
    "\n",
    "Hint: zero is a good placeholder value. It's useful because it evaluates to \"False\""
   ]
  },
  {
   "cell_type": "code",
   "execution_count": null,
   "metadata": {
    "collapsed": true
   },
   "outputs": [],
   "source": []
  },
  {
   "cell_type": "markdown",
   "metadata": {},
   "source": [
    "#### Write a `while` loop that asks for a valid guess. Test it a few times to make sure it works."
   ]
  },
  {
   "cell_type": "code",
   "execution_count": null,
   "metadata": {
    "collapsed": true
   },
   "outputs": [],
   "source": [
    "while True:\n",
    "    \n",
    "    pass"
   ]
  },
  {
   "cell_type": "markdown",
   "metadata": {},
   "source": [
    "#### Write a `while` loop that compares the player's guess to our number. If the player guesses correctly, break from the loop. Otherwise, tell the player if they're warmer or colder, and continue asking for guesses.\n",
    "\n",
    "Some hints:\n",
    "* it may help to sketch out all possible combinations on paper first!\n",
    "* you can use the `abs()` function to find the positive difference between two numbers\n",
    "* if you append all new guesses to the list, then the previous guess is given as `guesses[-2]`"
   ]
  },
  {
   "cell_type": "code",
   "execution_count": null,
   "metadata": {
    "collapsed": true
   },
   "outputs": [],
   "source": [
    "while True:\n",
    "\n",
    "    # we can copy the code from above to take an input\n",
    "\n",
    "    pass"
   ]
  },
  {
   "cell_type": "markdown",
   "metadata": {},
   "source": [
    "That's it! You've just programmed your first game!\n",
    "\n",
    "In the next section we'll learn how to turn some of these repetitive actions into *functions* that can be called whenever we need them."
   ]
  },
  {
   "cell_type": "markdown",
   "metadata": {},
   "source": [
    "### Good Job!"
   ]
  }
 ],
 "metadata": {
  "kernelspec": {
   "display_name": "Python 3",
   "language": "python",
   "name": "python3"
  },
  "language_info": {
   "codemirror_mode": {
    "name": "ipython",
    "version": 3
   },
   "file_extension": ".py",
   "mimetype": "text/x-python",
   "name": "python",
   "nbconvert_exporter": "python",
   "pygments_lexer": "ipython3",
   "version": "3.8.5"
  }
 },
 "nbformat": 4,
 "nbformat_minor": 2
}
