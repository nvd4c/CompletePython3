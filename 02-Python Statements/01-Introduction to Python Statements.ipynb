{
 "cells": [
  {
   "cell_type": "markdown",
   "metadata": {},
   "source": [
    "___\n",
    "\n",
    "<a href='https://www.udemy.com/user/joseportilla/'><img src='../Pierian_Data_Logo.png'/></a>\n",
    "___\n",
    "<center><em>Content Copyright by Pierian Data</em></center>"
   ]
  },
  {
   "cell_type": "markdown",
   "metadata": {
    "slideshow": {
     "slide_type": "slide"
    }
   },
   "source": [
    "# Introduction to Python Statements\n",
    "\n",
    "Bài giảng này sẽ nhấn mạnh sự khác biệt giữa Python và các ngôn ngữ khác như C ++.\n",
    "\n",
    "\n",
    "Có hai lý do khiến chúng tôi sử dụng phương pháp này để học Câu lệnh Python:\n",
    "\n",
    "    1.) Nếu bạn đến từ một ngôn ngữ khác, điều này sẽ nhanh chóng đẩy nhanh sự hiểu biết của bạn về Python.\n",
    "    2.) Tìm hiểu về các câu lệnh sẽ cho phép bạn có thể đọc các ngôn ngữ khác dễ dàng hơn trong tương lai."
   ]
  },
  {
   "cell_type": "markdown",
   "metadata": {
    "slideshow": {
     "slide_type": "slide"
    }
   },
   "source": [
    "## Python vs Other Languages\n",
    "\n",
    "Hãy tạo một câu lệnh đơn giản có nội dung:\n",
    "\"Nếu a lớn hơn b, gán 2 cho a và 4 cho b\"\n",
    "\n",
    "Hãy xem hai câu lệnh if này (chúng ta sẽ tìm hiểu về cách xây dựng câu lệnh if ngay sau đây).\n",
    "\n",
    "**Version 1 (Other Languages)**\n",
    "\n",
    "    if (a>b){\n",
    "        a = 2;\n",
    "        b = 4;\n",
    "    }\n",
    "                        \n",
    "**Version 2 (Python)**   \n",
    "\n",
    "    if a>b:\n",
    "        a = 2\n",
    "        b = 4"
   ]
  },
  {
   "cell_type": "markdown",
   "metadata": {},
   "source": [
    "Bạn sẽ nhận thấy rằng Python ít lộn xộn hơn và dễ đọc hơn nhiều so với phiên bản đầu tiên. Python quản lý điều này như thế nào?\n",
    "\n",
    "Hãy cùng xem qua những điểm khác biệt chính:\n",
    "\n",
    "Python loại bỏ () và {} bằng cách kết hợp hai yếu tố chính:  *Dấu 2 chấm* and *Dấu cách*. Câu lệnh được kết thúc bằng dấu hai chấm và khoảng trắng được sử dụng (thụt đầu dòng) để mô tả những gì diễn ra trong trường hợp câu lệnh.\n",
    "\n",
    "Một sự khác biệt lớn khác là thiếu dấu chấm phẩy trong Python. Dấu chấm phẩy được sử dụng để biểu thị phần cuối của câu lệnh trong nhiều ngôn ngữ khác, nhưng trong Python, phần cuối của một dòng giống như phần cuối của một câu lệnh.\n",
    "\n",
    "Cuối cùng, để kết thúc tổng quan ngắn gọn về sự khác biệt này, chúng ta hãy xem xét kỹ hơn cú pháp thụt lề trong Python so với các ngôn ngữ khác:\n",
    "\n",
    "## Thụt lề\n",
    "\n",
    "Dưới đây là một số mã giả để chỉ ra việc sử dụng khoảng trắng và thụt lề trong Python:\n",
    "**Other Languages**\n",
    "\n",
    "    if (x)\n",
    "        if(y)\n",
    "            code-statement;\n",
    "    else\n",
    "        another-code-statement;\n",
    "        \n",
    "**Python**\n",
    "    \n",
    "    if x:\n",
    "        if y:\n",
    "            code-statement\n",
    "    else:\n",
    "        another-code-statement"
   ]
  },
  {
   "cell_type": "markdown",
   "metadata": {},
   "source": [
    "Lưu ý rằng Python bị điều khiển rất nhiều bởi thụt đầu dòng mã và khoảng trắng. Điều này có nghĩa là khả năng đọc mã là một phần cốt lõi của thiết kế ngôn ngữ Python."
   ]
  }
 ],
 "metadata": {
  "kernelspec": {
   "display_name": "Python 3",
   "language": "python",
   "name": "python3"
  },
  "language_info": {
   "codemirror_mode": {
    "name": "ipython",
    "version": 3
   },
   "file_extension": ".py",
   "mimetype": "text/x-python",
   "name": "python",
   "nbconvert_exporter": "python",
   "pygments_lexer": "ipython3",
   "version": "3.8.5"
  }
 },
 "nbformat": 4,
 "nbformat_minor": 1
}
