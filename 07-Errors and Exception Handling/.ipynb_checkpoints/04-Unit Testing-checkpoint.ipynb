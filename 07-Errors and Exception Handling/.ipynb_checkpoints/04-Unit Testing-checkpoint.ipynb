{
 "cells": [
  {
   "cell_type": "markdown",
   "metadata": {},
   "source": [
    "___\n",
    "\n",
    "<a href='https://www.udemy.com/user/joseportilla/'><img src='../Pierian_Data_Logo.png'/></a>\n",
    "___\n",
    "<center><em>Content Copyright by Pierian Data</em></center>"
   ]
  },
  {
   "cell_type": "markdown",
   "metadata": {},
   "source": [
    "# Unit Testing\n",
    "\n",
    "Điều quan trọng không kém việc viết mã tốt là viết các bài kiểm tra tốt. Tốt hơn bạn nên tự mình tìm ra lỗi hơn là để chúng được người dùng cuối báo cáo cho bạn!\n",
    "\n",
    "Đối với phần này, chúng tôi sẽ làm việc với các tệp bên ngoài notebook. Chúng tôi sẽ lưu mã của chúng tôi vào một tệp .py, và sau đó lưu tập lệnh thử nghiệm của chúng tôi vào một tệp .py khác. Thông thường, chúng tôi sẽ viết mã các tệp này bằng trình soạn thảo văn bản như Brackets hoặc Atom, hoặc bên trong IDE như Spyder hoặc Pycharm. Nhưng, vì chúng ta đang ở đây, hãy sử dụng Jupyter!\n",
    "\n",
    "Nhớ lại rằng với một số phép thuật IPython, chúng ta có thể ghi nội dung của một ô vào một tệp bằng cách sử dụng `%% writefile`. <br>\n",
    "Một cái gì đó chúng tôi chưa thấy; bạn có thể chạy các lệnh đầu cuối từ một ô jupyter bằng cách sử dụng `! '\n",
    "\n",
    "## Testing tools\n",
    "\n",
    "Có hàng tá thư viện thử nghiệm tốt trên mạng. Hầu hết là các gói của bên thứ ba yêu cầu cài đặt, chẳng hạn như:\n",
    "\n",
    "* [pylint](https://www.pylint.org/)\n",
    "* [pyflakes](https://pypi.python.org/pypi/pyflakes/)\n",
    "* [pep8](https://pypi.python.org/pypi/pep8)\n",
    "\n",
    "\n",
    "Đây là những công cụ đơn giản chỉ xem mã của bạn và chúng sẽ cho bạn biết nếu có vấn đề về kiểu dáng hoặc các vấn đề đơn giản như tên biến được gọi trước khi gán.\n",
    "\n",
    "Cách tốt hơn nhiều để kiểm tra mã của bạn là viết các bài kiểm tra gửi dữ liệu mẫu đến chương trình của bạn và so sánh những gì được trả về với kết quả mong muốn. <br> Hai công cụ như vậy có sẵn từ thư viện tiêu chuẩn:\n",
    "\n",
    "* [unittest](https://docs.python.org/3/library/unittest.html)\n",
    "* [doctest](https://docs.python.org/3/library/doctest.html)\n",
    "\n",
    "Trước tiên hãy nhìn vào pylint, sau đó chúng ta sẽ thực hiện một số động tác nâng nặng hơn với unittest.\n"
   ]
  },
  {
   "cell_type": "markdown",
   "metadata": {},
   "source": [
    "## `pylint`\n",
    "\n",
    "`pylint` kiểm tra style cũng như một số logic chương trình rất cơ bản."
   ]
  },
  {
   "cell_type": "markdown",
   "metadata": {},
   "source": [
    "Đầu tiên, nếu bạn chưa có (và có thể bạn cũng vậy, vì nó là một phần của bản phân phối Anaconda), bạn nên cài đặt `pylint`. <br> Sau khi hoàn tất, hãy bình luận về ô, bạn sẽ không cần nó nữa."
   ]
  },
  {
   "cell_type": "code",
   "execution_count": 2,
   "metadata": {},
   "outputs": [
    {
     "name": "stdout",
     "output_type": "stream",
     "text": [
      "Requirement already satisfied: pylint in c:\\users\\admin\\anaconda3\\lib\\site-packages (2.6.0)\n",
      "Requirement already satisfied: astroid<=2.5,>=2.4.0 in c:\\users\\admin\\anaconda3\\lib\\site-packages (from pylint) (2.4.2)\n",
      "Requirement already satisfied: colorama; sys_platform == \"win32\" in c:\\users\\admin\\anaconda3\\lib\\site-packages (from pylint) (0.4.4)\n",
      "Requirement already satisfied: mccabe<0.7,>=0.6 in c:\\users\\admin\\anaconda3\\lib\\site-packages (from pylint) (0.6.1)\n",
      "Requirement already satisfied: isort<6,>=4.2.5 in c:\\users\\admin\\anaconda3\\lib\\site-packages (from pylint) (5.6.4)\n",
      "Requirement already satisfied: toml>=0.7.1 in c:\\users\\admin\\anaconda3\\lib\\site-packages (from pylint) (0.10.1)\n",
      "Requirement already satisfied: lazy-object-proxy==1.4.* in c:\\users\\admin\\anaconda3\\lib\\site-packages (from astroid<=2.5,>=2.4.0->pylint) (1.4.3)\n",
      "Requirement already satisfied: wrapt~=1.11 in c:\\users\\admin\\anaconda3\\lib\\site-packages (from astroid<=2.5,>=2.4.0->pylint) (1.11.2)\n",
      "Requirement already satisfied: six~=1.12 in c:\\users\\admin\\anaconda3\\lib\\site-packages (from astroid<=2.5,>=2.4.0->pylint) (1.15.0)\n"
     ]
    }
   ],
   "source": [
    "! pip install pylint"
   ]
  },
  {
   "cell_type": "markdown",
   "metadata": {},
   "source": [
    "Let's save a very simple script:"
   ]
  },
  {
   "cell_type": "code",
   "execution_count": 3,
   "metadata": {},
   "outputs": [
    {
     "name": "stdout",
     "output_type": "stream",
     "text": [
      "Overwriting simple1.py\n"
     ]
    }
   ],
   "source": [
    "%%writefile simple1.py\n",
    "a = 1\n",
    "b = 2\n",
    "print(a)\n",
    "print(B)"
   ]
  },
  {
   "cell_type": "markdown",
   "metadata": {},
   "source": [
    "Now let's check it using pylint"
   ]
  },
  {
   "cell_type": "code",
   "execution_count": 4,
   "metadata": {},
   "outputs": [
    {
     "name": "stdout",
     "output_type": "stream",
     "text": [
      "************* Module simple1\n",
      "simple1.py:1:0: C0114: Missing module docstring (missing-module-docstring)\n",
      "simple1.py:1:0: C0103: Constant name \"a\" doesn't conform to UPPER_CASE naming style (invalid-name)\n",
      "simple1.py:2:0: C0103: Constant name \"b\" doesn't conform to UPPER_CASE naming style (invalid-name)\n",
      "simple1.py:4:6: E0602: Undefined variable 'B' (undefined-variable)\n",
      "\n",
      "-------------------------------------\n",
      "\n",
      "Your code has been rated at -10.00/10\n",
      "\n",
      "\n",
      "\n"
     ]
    }
   ],
   "source": [
    "! pylint simple1.py"
   ]
  },
  {
   "cell_type": "markdown",
   "metadata": {},
   "source": [
    "Trước tiên, Pylint liệt kê một số vấn đề về styling - nó muốn thấy thêm một dòng mới ở cuối, các mô-đun và định nghĩa hàm phải có docstrings mô tả và các ký tự đơn lẻ là một lựa chọn tồi cho các tên biến.\n",
    "\n",
    "Tuy nhiên, quan trọng hơn, pylint đã xác định được một lỗi trong chương trình - một biến được gọi trước khi gán. Điều này cần được sửa chữa.\n",
    "\n",
    "Lưu ý rằng pylint đã cho điểm chương trình của chúng tôi là âm 12,5 trên 10. Hãy cố gắng cải thiện điều đó!"
   ]
  },
  {
   "cell_type": "code",
   "execution_count": 7,
   "metadata": {},
   "outputs": [
    {
     "name": "stdout",
     "output_type": "stream",
     "text": [
      "Overwriting simple1.py\n"
     ]
    }
   ],
   "source": [
    "%%writefile simple1.py\n",
    "\"\"\"\n",
    "A very simple script.\n",
    "\"\"\"\n",
    "\n",
    "def myfunc():\n",
    "    \"\"\"\n",
    "    An extremely simple function.\n",
    "    \"\"\"\n",
    "    first = 1\n",
    "    second = 2\n",
    "    print(first)\n",
    "    print(second)\n",
    "\n",
    "myfunc()"
   ]
  },
  {
   "cell_type": "code",
   "execution_count": 8,
   "metadata": {},
   "outputs": [
    {
     "name": "stdout",
     "output_type": "stream",
     "text": [
      "\n",
      "--------------------------------------------------------------------\n",
      "\n",
      "Your code has been rated at 10.00/10 (previous run: 10.00/10, +0.00)\n",
      "\n",
      "\n",
      "\n"
     ]
    }
   ],
   "source": [
    "! pylint simple1.py"
   ]
  },
  {
   "cell_type": "markdown",
   "metadata": {},
   "source": [
    "Tốt hơn nhiều! Điểm số của chúng tôi tăng lên 8,33 / 10. Thật không may, dòng mới cuối cùng liên quan đến cách jupyter ghi vào một tệp và chúng tôi không thể làm gì nhiều về điều đó ở đây. Tuy nhiên, pylint đã giúp chúng tôi khắc phục một số vấn đề của chúng tôi. Nhưng nếu vấn đề phức tạp hơn thì sao?"
   ]
  },
  {
   "cell_type": "code",
   "execution_count": 11,
   "metadata": {},
   "outputs": [
    {
     "name": "stdout",
     "output_type": "stream",
     "text": [
      "Overwriting simple2.py\n"
     ]
    }
   ],
   "source": [
    "%%writefile simple2.py\n",
    "\"\"\"\n",
    "A very simple script.\n",
    "\"\"\"\n",
    "\n",
    "def myfunc():\n",
    "    \"\"\"\n",
    "    An extremely simple function.\n",
    "    \"\"\"\n",
    "    first = 1\n",
    "    second = 2\n",
    "    print(first)\n",
    "    print('second')\n",
    "\n",
    "myfunc()"
   ]
  },
  {
   "cell_type": "code",
   "execution_count": 12,
   "metadata": {},
   "outputs": [
    {
     "name": "stdout",
     "output_type": "stream",
     "text": [
      "************* Module simple2\n",
      "simple2.py:10:4: W0612: Unused variable 'second' (unused-variable)\n",
      "\n",
      "------------------------------------------------------------------\n",
      "\n",
      "Your code has been rated at 8.33/10 (previous run: 8.33/10, +0.00)\n",
      "\n",
      "\n",
      "\n"
     ]
    }
   ],
   "source": [
    "! pylint simple2.py"
   ]
  },
  {
   "cell_type": "markdown",
   "metadata": {},
   "source": [
    "pylint cho chúng ta biết có một biến không được sử dụng ở dòng 10, nhưng nó không biết rằng chúng ta có thể nhận được kết quả không mong muốn từ dòng 12! Để làm được điều này, chúng tôi cần một bộ công cụ mạnh mẽ hơn. Đó là nơi mà `` unittest '' xuất hiện."
   ]
  },
  {
   "cell_type": "markdown",
   "metadata": {},
   "source": [
    "## `unittest`\n",
    "`unittest` cho phép bạn viết các chương trình thử nghiệm của riêng bạn. Mục đích là gửi một tập dữ liệu cụ thể đến chương trình của bạn và phân tích kết quả trả về so với kết quả mong đợi.\n",
    "\n",
    "Hãy tạo một tập lệnh đơn giản viết hoa các từ trong một chuỗi nhất định. Chúng tôi sẽ gọi nó là ** cap.py **."
   ]
  },
  {
   "cell_type": "code",
   "execution_count": 13,
   "metadata": {},
   "outputs": [
    {
     "name": "stdout",
     "output_type": "stream",
     "text": [
      "Overwriting cap.py\n"
     ]
    }
   ],
   "source": [
    "%%writefile cap.py\n",
    "def cap_text(text):\n",
    "    return text.capitalize()"
   ]
  },
  {
   "cell_type": "markdown",
   "metadata": {},
   "source": [
    "Bây giờ chúng ta sẽ viết một kịch bản thử nghiệm. Chúng ta có thể gọi nó là bất cứ thứ gì chúng ta muốn, nhưng ** test_cap.py ** có vẻ là một lựa chọn hiển nhiên.\n",
    "\n",
    "Khi viết các hàm kiểm tra, tốt nhất bạn nên đi từ đơn giản đến phức tạp, vì mỗi hàm sẽ được chạy theo thứ tự. Ở đây chúng tôi sẽ kiểm tra các chuỗi một từ đơn giản, sau đó là kiểm tra các chuỗi nhiều từ."
   ]
  },
  {
   "cell_type": "code",
   "execution_count": 14,
   "metadata": {},
   "outputs": [
    {
     "name": "stdout",
     "output_type": "stream",
     "text": [
      "Overwriting test_cap.py\n"
     ]
    }
   ],
   "source": [
    "%%writefile test_cap.py\n",
    "import unittest\n",
    "import cap\n",
    "\n",
    "class TestCap(unittest.TestCase):\n",
    "    \n",
    "    def test_one_word(self):\n",
    "        text = 'python'\n",
    "        result = cap.cap_text(text)\n",
    "        self.assertEqual(result, 'Python')\n",
    "        \n",
    "    def test_multiple_words(self):\n",
    "        text = 'monty python'\n",
    "        result = cap.cap_text(text)\n",
    "        self.assertEqual(result, 'Monty Python')\n",
    "        \n",
    "if __name__ == '__main__':\n",
    "    unittest.main()"
   ]
  },
  {
   "cell_type": "code",
   "execution_count": 15,
   "metadata": {},
   "outputs": [
    {
     "name": "stderr",
     "output_type": "stream",
     "text": [
      "F.\n",
      "======================================================================\n",
      "FAIL: test_multiple_words (__main__.TestCap)\n",
      "----------------------------------------------------------------------\n",
      "Traceback (most recent call last):\n",
      "  File \"test_cap.py\", line 14, in test_multiple_words\n",
      "    self.assertEqual(result, 'Monty Python')\n",
      "AssertionError: 'Monty python' != 'Monty Python'\n",
      "- Monty python\n",
      "?       ^\n",
      "+ Monty Python\n",
      "?       ^\n",
      "\n",
      "\n",
      "----------------------------------------------------------------------\n",
      "Ran 2 tests in 0.001s\n",
      "\n",
      "FAILED (failures=1)\n"
     ]
    }
   ],
   "source": [
    "! python test_cap.py"
   ]
  },
  {
   "cell_type": "markdown",
   "metadata": {},
   "source": [
    "Chuyện gì đã xảy ra thế? Nó chỉ ra rằng phương thức `.capitalize ()` chỉ viết hoa chữ cái đầu tiên của từ đầu tiên trong một chuỗi. Thực hiện một nghiên cứu nhỏ về các phương thức chuỗi, chúng tôi thấy rằng `.title ()` có thể cung cấp cho chúng tôi những gì chúng tôi muốn."
   ]
  },
  {
   "cell_type": "code",
   "execution_count": 16,
   "metadata": {},
   "outputs": [
    {
     "name": "stdout",
     "output_type": "stream",
     "text": [
      "Overwriting cap.py\n"
     ]
    }
   ],
   "source": [
    "%%writefile cap.py\n",
    "def cap_text(text):\n",
    "    return text.title()  # replace .capitalize() with .title()"
   ]
  },
  {
   "cell_type": "code",
   "execution_count": 17,
   "metadata": {},
   "outputs": [
    {
     "name": "stderr",
     "output_type": "stream",
     "text": [
      "..\n",
      "----------------------------------------------------------------------\n",
      "Ran 2 tests in 0.000s\n",
      "\n",
      "OK\n"
     ]
    }
   ],
   "source": [
    "! python test_cap.py"
   ]
  },
  {
   "cell_type": "markdown",
   "metadata": {},
   "source": [
    "Này, nó đã pass! Nhưng chúng ta đã thử nghiệm tất cả các trường hợp chưa? Hãy thêm một bài kiểm tra khác vào ** test_cap.py ** để xem nó có xử lý các từ có dấu nháy đơn, như * don't * hay không.\n",
    "\n",
    "Trong một trình soạn thảo văn bản, điều này sẽ dễ dàng, nhưng trong Jupyter, chúng ta phải bắt đầu lại từ đầu."
   ]
  },
  {
   "cell_type": "code",
   "execution_count": 18,
   "metadata": {},
   "outputs": [
    {
     "name": "stdout",
     "output_type": "stream",
     "text": [
      "Overwriting test_cap.py\n"
     ]
    }
   ],
   "source": [
    "%%writefile test_cap.py\n",
    "import unittest\n",
    "import cap\n",
    "\n",
    "class TestCap(unittest.TestCase):\n",
    "    \n",
    "    def test_one_word(self):\n",
    "        text = 'python'\n",
    "        result = cap.cap_text(text)\n",
    "        self.assertEqual(result, 'Python')\n",
    "        \n",
    "    def test_multiple_words(self):\n",
    "        text = 'monty python'\n",
    "        result = cap.cap_text(text)\n",
    "        self.assertEqual(result, 'Monty Python')\n",
    "        \n",
    "    def test_with_apostrophes(self):\n",
    "        text = \"monty python's flying circus\"\n",
    "        result = cap.cap_text(text)\n",
    "        self.assertEqual(result, \"Monty Python's Flying Circus\")\n",
    "        \n",
    "if __name__ == '__main__':\n",
    "    unittest.main()"
   ]
  },
  {
   "cell_type": "code",
   "execution_count": 19,
   "metadata": {},
   "outputs": [
    {
     "name": "stderr",
     "output_type": "stream",
     "text": [
      "..F\n",
      "======================================================================\n",
      "FAIL: test_with_apostrophes (__main__.TestCap)\n",
      "----------------------------------------------------------------------\n",
      "Traceback (most recent call last):\n",
      "  File \"test_cap.py\", line 19, in test_with_apostrophes\n",
      "    self.assertEqual(result, \"Monty Python's Flying Circus\")\n",
      "AssertionError: \"Monty Python'S Flying Circus\" != \"Monty Python's Flying Circus\"\n",
      "- Monty Python'S Flying Circus\n",
      "?              ^\n",
      "+ Monty Python's Flying Circus\n",
      "?              ^\n",
      "\n",
      "\n",
      "----------------------------------------------------------------------\n",
      "Ran 3 tests in 0.001s\n",
      "\n",
      "FAILED (failures=1)\n"
     ]
    }
   ],
   "source": [
    "! python test_cap.py"
   ]
  },
  {
   "cell_type": "markdown",
   "metadata": {},
   "source": [
    "Bây giờ chúng ta phải tìm một giải pháp xử lý dấu nháy đơn! Có một cái (tra cứu `capwords` từ mô-đun` string`) nhưng chúng tôi sẽ để nó như một bài tập cho người đọc."
   ]
  },
  {
   "cell_type": "markdown",
   "metadata": {},
   "source": [
    "Great! Now you should have a basic understanding of unit testing!"
   ]
  }
 ],
 "metadata": {
  "kernelspec": {
   "display_name": "Python 3",
   "language": "python",
   "name": "python3"
  },
  "language_info": {
   "codemirror_mode": {
    "name": "ipython",
    "version": 3
   },
   "file_extension": ".py",
   "mimetype": "text/x-python",
   "name": "python",
   "nbconvert_exporter": "python",
   "pygments_lexer": "ipython3",
   "version": "3.8.5"
  }
 },
 "nbformat": 4,
 "nbformat_minor": 2
}
