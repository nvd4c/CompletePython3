{
 "cells": [
  {
   "cell_type": "markdown",
   "metadata": {},
   "source": [
    "# Using Interact\n",
    "\n",
    "Trong bài giảng này, chúng ta sẽ bắt đầu tìm hiểu về cách tạo GUI kiểu bảng điều khiển với các widget iPython!"
   ]
  },
  {
   "cell_type": "markdown",
   "metadata": {},
   "source": [
    "Hàm `interact` (`ipywidgets.interact`) tự động tạo các điều khiển giao diện người dùng (UI) để khám phá mã và dữ liệu một cách tương tác. Đây là cách dễ nhất để bắt đầu sử dụng các widget của IPython."
   ]
  },
  {
   "cell_type": "code",
   "execution_count": 2,
   "metadata": {},
   "outputs": [],
   "source": [
    "# Start with some imports!\n",
    "\n",
    "from ipywidgets import interact, interactive, fixed\n",
    "import ipywidgets as widgets"
   ]
  },
  {
   "cell_type": "markdown",
   "metadata": {},
   "source": [
    "<div class=\"alert alert-success\">\n",
    "  Xin lưu ý! Các widget trong notebook này sẽ không hiển thị trên kết xuất NbViewer hoặc GitHub. Để xem các widget và tương tác với chúng, bạn sẽ cần tải xuống sổ ghi chép này và chạy nó với Jupyter Notebook server.\n",
    "</div>"
   ]
  },
  {
   "cell_type": "markdown",
   "metadata": {},
   "source": [
    "## Basic `interact`"
   ]
  },
  {
   "cell_type": "markdown",
   "metadata": {},
   "source": [
    "Ở cấp độ cơ bản nhất, `interact` tự động tạo các điều khiển giao diện người dùng cho các đối số hàm, sau đó gọi hàm với các đối số đó khi bạn thao tác các điều khiển một cách tương tác. Để sử dụng `interact`, bạn cần xác định một hàm mà bạn muốn khám phá. Đây là một hàm in ra đối số duy nhất của nó `x`."
   ]
  },
  {
   "cell_type": "code",
   "execution_count": 3,
   "metadata": {},
   "outputs": [],
   "source": [
    "# Very basic function\n",
    "def f(x):\n",
    "    return x"
   ]
  },
  {
   "cell_type": "markdown",
   "metadata": {},
   "source": [
    "Khi bạn chuyển hàm này làm đối số đầu tiên cho `interact` cùng với một đối số số nguyên keyword (`x=10`), một thanh trượt được tạo và liên kết với tham số hàm. Lưu ý rằng dấu chấm phẩy ở đây chỉ ngăn một ô ** out ** hiển thị."
   ]
  },
  {
   "cell_type": "code",
   "execution_count": 4,
   "metadata": {},
   "outputs": [
    {
     "data": {
      "application/vnd.jupyter.widget-view+json": {
       "model_id": "d2c3e66f859540b4b17b0f4b71888411",
       "version_major": 2,
       "version_minor": 0
      },
      "text/plain": [
       "interactive(children=(IntSlider(value=10, description='x', max=30, min=-10), Output()), _dom_classes=('widget-…"
      ]
     },
     "metadata": {},
     "output_type": "display_data"
    }
   ],
   "source": [
    "# Generate a slider to interact with\n",
    "interact(f, x=10,);"
   ]
  },
  {
   "cell_type": "markdown",
   "metadata": {},
   "source": [
    "Khi bạn di chuyển thanh trượt, hàm được gọi, hàm này sẽ in ra giá trị hiện tại của `x`.\n",
    "\n",
    "Nếu bạn truyền vào `True` or `False`, `interact` sẽ tạo 1 checkbox:"
   ]
  },
  {
   "cell_type": "code",
   "execution_count": 5,
   "metadata": {
    "scrolled": true
   },
   "outputs": [
    {
     "data": {
      "application/vnd.jupyter.widget-view+json": {
       "model_id": "94946854cdce4d6295e63c7da31f5bd1",
       "version_major": 2,
       "version_minor": 0
      },
      "text/plain": [
       "interactive(children=(Checkbox(value=True, description='x'), Output()), _dom_classes=('widget-interact',))"
      ]
     },
     "metadata": {},
     "output_type": "display_data"
    }
   ],
   "source": [
    "# Booleans generate check-boxes\n",
    "interact(f, x=True);"
   ]
  },
  {
   "cell_type": "markdown",
   "metadata": {},
   "source": [
    "Nếu bạn truyền vào 1 chuỗi, `interact` sẽ tạo ra text area."
   ]
  },
  {
   "cell_type": "code",
   "execution_count": 7,
   "metadata": {},
   "outputs": [
    {
     "data": {
      "application/vnd.jupyter.widget-view+json": {
       "model_id": "bcc846d844c348e1874c9ab04493524c",
       "version_major": 2,
       "version_minor": 0
      },
      "text/plain": [
       "interactive(children=(Text(value='Hi there!', description='x'), Output()), _dom_classes=('widget-interact',))"
      ]
     },
     "metadata": {},
     "output_type": "display_data"
    }
   ],
   "source": [
    "# Strings generate text areas\n",
    "interact(f, x='Hi there!');"
   ]
  },
  {
   "cell_type": "markdown",
   "metadata": {},
   "source": [
    "`interact` cũng có thể được sử dụng như một decorator. Điều này cho phép bạn xác định một chức năng và tương tác với nó trong một lần. Như ví dụ này cho thấy, `interact` cũng hoạt động với các hàm có nhiều đối số."
   ]
  },
  {
   "cell_type": "code",
   "execution_count": 8,
   "metadata": {},
   "outputs": [
    {
     "data": {
      "application/vnd.jupyter.widget-view+json": {
       "model_id": "135af0d3156b4c7fb7d7e66dcb29e494",
       "version_major": 2,
       "version_minor": 0
      },
      "text/plain": [
       "interactive(children=(Checkbox(value=True, description='x'), FloatSlider(value=1.0, description='y', max=3.0, …"
      ]
     },
     "metadata": {},
     "output_type": "display_data"
    }
   ],
   "source": [
    "# Using a decorator!\n",
    "@interact(x=True, y=1.0)\n",
    "def g(x, y):\n",
    "    return (x, y)"
   ]
  },
  {
   "cell_type": "markdown",
   "metadata": {},
   "source": [
    "## Fixing arguments using `fixed`"
   ]
  },
  {
   "cell_type": "markdown",
   "metadata": {},
   "source": [
    "Đôi khi bạn có thể muốn khám phá một hàm bằng cách sử dụng `interact`', nhưng hãy sửa một hoặc nhiều đối số của nó thành các giá trị cụ thể. Điều này có thể được thực hiện bằng cách wrap các giá trị bằng hàm `fixed`."
   ]
  },
  {
   "cell_type": "code",
   "execution_count": 9,
   "metadata": {},
   "outputs": [],
   "source": [
    "# Again, a simple function\n",
    "def h(p, q):\n",
    "    return (p, q)"
   ]
  },
  {
   "cell_type": "markdown",
   "metadata": {},
   "source": [
    "Khi chúng ta gọi `interact`, chúng ta truyền`fixed (20)`cho q để giữ nó cố định(hold it fixed) ở giá trị `20`."
   ]
  },
  {
   "cell_type": "code",
   "execution_count": 10,
   "metadata": {},
   "outputs": [
    {
     "data": {
      "application/vnd.jupyter.widget-view+json": {
       "model_id": "bb859749f188493ba6bf7628858eed94",
       "version_major": 2,
       "version_minor": 0
      },
      "text/plain": [
       "interactive(children=(IntSlider(value=5, description='p', max=15, min=-5), Output()), _dom_classes=('widget-in…"
      ]
     },
     "metadata": {},
     "output_type": "display_data"
    }
   ],
   "source": [
    "interact(h, p=5, q=fixed(20));"
   ]
  },
  {
   "cell_type": "markdown",
   "metadata": {},
   "source": [
    "Lưu ý rằng một thanh trượt chỉ được tạo cho `p` vì giá trị của`q` là cố định."
   ]
  },
  {
   "cell_type": "markdown",
   "metadata": {},
   "source": [
    "## Widget abbreviations - widget viết tắt"
   ]
  },
  {
   "cell_type": "markdown",
   "metadata": {},
   "source": [
    "Khi bạn chuyển đối số từ khóa có giá trị số nguyên là `10` (`x = 10`) vào `interact`, nó sẽ tạo ra điều khiển thanh trượt có giá trị số nguyên với phạm vi `[-10,+ 3\\times10]`. Trong trường hợp này, `10` là *viết tắt* (abbreviation) cho tiện ích con trượt thực tế:\n",
    "\n",
    "```python\n",
    "IntSlider(min=-10,max=30,step=1,value=10)\n",
    "```\n",
    "\n",
    "Trên thực tế, chúng ta có thể nhận được cùng một kết quả nếu chúng ta truyền `IntSlider` này làm keyword argument cho`x`:"
   ]
  },
  {
   "cell_type": "code",
   "execution_count": 11,
   "metadata": {},
   "outputs": [
    {
     "data": {
      "application/vnd.jupyter.widget-view+json": {
       "model_id": "fdab584a11f043cdbb875f877c0d36b7",
       "version_major": 2,
       "version_minor": 0
      },
      "text/plain": [
       "interactive(children=(IntSlider(value=10, description='x', max=30, min=-10), Output()), _dom_classes=('widget-…"
      ]
     },
     "metadata": {},
     "output_type": "display_data"
    }
   ],
   "source": [
    "# Có thể gọi IntSlider để biết cụ thể hơn\n",
    "interact(f, x=widgets.IntSlider(min=-10,max=30,step=1,value=10));"
   ]
  },
  {
   "cell_type": "markdown",
   "metadata": {},
   "source": [
    "Ví dụ này làm rõ cách `interact` xử lý các đối số từ khóa của nó:\n",
    "\n",
    "1. Nếu đối số từ khóa là một cá thể `Widget` với thuộc tính `value`, thì widget đó sẽ được sử dụng. Bất kỳ widget nào có thuộc tính `value` đều có thể được sử dụng, ngay cả những widget tùy chỉnh.\n",
    "2. Nếu không, valie được đánh lừa và coi là *widget abbreviation* được chuyển đổi thành widget trước khi nó được sử dụng.\n",
    "\n",
    "Bảng sau đây cung cấp tổng quan về các widget abbreviations (chữ viết tắt) khác nhau của tiện ích con:\n",
    "\n",
    "\n",
    "<table class=\"table table-condensed table-bordered\">\n",
    "  <tr><td><strong>Keyword argument</strong></td><td><strong>Widget</strong></td></tr>  \n",
    "  <tr><td>`True` or `False`</td><td>Checkbox</td></tr>  \n",
    "  <tr><td>`'Hi there'`</td><td>Text</td></tr>\n",
    "  <tr><td>`value` or `(min,max)` or `(min,max,step)` if integers are passed</td><td>IntSlider</td></tr>\n",
    "  <tr><td>`value` or `(min,max)` or `(min,max,step)` if floats are passed</td><td>FloatSlider</td></tr>\n",
    "  <tr><td>`['orange','apple']` or `{'one':1,'two':2}`</td><td>Dropdown</td></tr>\n",
    "</table>"
   ]
  },
  {
   "cell_type": "markdown",
   "metadata": {},
   "source": [
    "Lưu ý rằng một dropdown được sử dụng nếu một danh sách hoặc một dict được đưa ra (biểu thị các lựa chọn rời rạc) và một thanh trượt được sử dụng nếu một tuple được đưa ra (biểu thị một phạm vi).\n",
    "\n",
    "Bạn đã thấy cách hoạt động của các widget checkbox and text area ở trên. Tại đây, chúng tôi cung cấp thêm thông tin chi tiết về các chữ viết tắt (abbreviations) khác nhau cho thanh trượt và drop-downs.\n",
    "\n",
    "Nếu truyền 2 bộ tuplet số nguyên `(min,max)`, một thanh trượt có giá trị số nguyên được tạo ra với các giá trị tối thiểu và tối đa đó (bao gồm). Trong trường hợp này, kích thước bước mặc định của `1` được sử dụng."
   ]
  },
  {
   "cell_type": "code",
   "execution_count": 12,
   "metadata": {},
   "outputs": [
    {
     "data": {
      "application/vnd.jupyter.widget-view+json": {
       "model_id": "7f31e8b099044bdab91c3d6e62a5caad",
       "version_major": 2,
       "version_minor": 0
      },
      "text/plain": [
       "interactive(children=(IntSlider(value=2, description='x', max=4), Output()), _dom_classes=('widget-interact',)…"
      ]
     },
     "metadata": {},
     "output_type": "display_data"
    }
   ],
   "source": [
    "# Min,Max slider with Tuples\n",
    "interact(f, x=(0,4));"
   ]
  },
  {
   "cell_type": "markdown",
   "metadata": {},
   "source": [
    "Nếu truyền 3 bộ số nguyên `(min,max,step)`, thì kích thước bước cũng có thể được đặt."
   ]
  },
  {
   "cell_type": "code",
   "execution_count": 13,
   "metadata": {},
   "outputs": [
    {
     "data": {
      "application/vnd.jupyter.widget-view+json": {
       "model_id": "3798370c7aa8410d861deb7fc868bc3e",
       "version_major": 2,
       "version_minor": 0
      },
      "text/plain": [
       "interactive(children=(IntSlider(value=4, description='x', max=8, step=2), Output()), _dom_classes=('widget-int…"
      ]
     },
     "metadata": {},
     "output_type": "display_data"
    }
   ],
   "source": [
    "# (min, max, step)\n",
    "interact(f, x=(0,8,2));"
   ]
  },
  {
   "cell_type": "markdown",
   "metadata": {},
   "source": [
    "Thanh trượt có giá trị float được tạo ra nếu các phần tử của các bộ giá trị là float. Ở đây mức tối thiểu là `0,0`, mức tối đa là `10.0` và kích thước bước là `0,1` (mặc định)."
   ]
  },
  {
   "cell_type": "code",
   "execution_count": 14,
   "metadata": {},
   "outputs": [
    {
     "data": {
      "application/vnd.jupyter.widget-view+json": {
       "model_id": "c024413743a7475c821fecf5db5f3783",
       "version_major": 2,
       "version_minor": 0
      },
      "text/plain": [
       "interactive(children=(FloatSlider(value=5.0, description='x', max=10.0), Output()), _dom_classes=('widget-inte…"
      ]
     },
     "metadata": {},
     "output_type": "display_data"
    }
   ],
   "source": [
    "interact(f, x=(0.0,10.0));"
   ]
  },
  {
   "cell_type": "markdown",
   "metadata": {},
   "source": [
    "Kích thước bước có thể được thay đổi bằng cách truyền phần tử thứ ba trong tuple."
   ]
  },
  {
   "cell_type": "code",
   "execution_count": 15,
   "metadata": {},
   "outputs": [
    {
     "data": {
      "application/vnd.jupyter.widget-view+json": {
       "model_id": "5b6e6c9fba84461280cf9637a8fc7216",
       "version_major": 2,
       "version_minor": 0
      },
      "text/plain": [
       "interactive(children=(FloatSlider(value=5.0, description='x', max=10.0, step=0.01), Output()), _dom_classes=('…"
      ]
     },
     "metadata": {},
     "output_type": "display_data"
    }
   ],
   "source": [
    "interact(f, x=(0.0,10.0,0.01));"
   ]
  },
  {
   "cell_type": "markdown",
   "metadata": {},
   "source": [
    "Đối với cả thanh trượt có giá trị số nguyên và giá trị float, bạn có thể chọn giá trị ban đầu của widget bằng cách truyền đối số từ khóa mặc định cho hàm Python bên dưới. Ở đây chúng tôi đặt giá trị ban đầu của thanh trượt float thành `5.5`."
   ]
  },
  {
   "cell_type": "code",
   "execution_count": 17,
   "metadata": {},
   "outputs": [
    {
     "data": {
      "application/vnd.jupyter.widget-view+json": {
       "model_id": "c02615ab43fe4a78b32aa348613c691a",
       "version_major": 2,
       "version_minor": 0
      },
      "text/plain": [
       "interactive(children=(FloatSlider(value=5.5, description='x', max=20.0, step=0.5), Output()), _dom_classes=('w…"
      ]
     },
     "metadata": {},
     "output_type": "display_data"
    }
   ],
   "source": [
    "@interact(x=(0.0,20.0,0.5))\n",
    "def h(x=5.5):\n",
    "    return x"
   ]
  },
  {
   "cell_type": "markdown",
   "metadata": {},
   "source": [
    "Menu Dropdown được xây dựng bằng cách truyền một danh sách các chuỗi. Trong trường hợp này, cả hai chuỗi đều được sử dụng làm tên trong giao diện người dùng menu drop-down và được pass cho hàm Python bên dưới."
   ]
  },
  {
   "cell_type": "code",
   "execution_count": 18,
   "metadata": {},
   "outputs": [
    {
     "data": {
      "application/vnd.jupyter.widget-view+json": {
       "model_id": "07f0761512d4455da7502d081f31fa60",
       "version_major": 2,
       "version_minor": 0
      },
      "text/plain": [
       "interactive(children=(Dropdown(description='x', options=('apples', 'oranges'), value='apples'), Output()), _do…"
      ]
     },
     "metadata": {},
     "output_type": "display_data"
    }
   ],
   "source": [
    "interact(f, x=['apples','oranges']);"
   ]
  },
  {
   "cell_type": "markdown",
   "metadata": {},
   "source": [
    "Nếu bạn muốn một menu drop-down truyền các giá trị không phải chuỗi vào hàm Python, bạn có thể truyền một từ dictionary. Các khóa trong từ điển được sử dụng cho các tên trong giao diện người dùng menu drop-down và các giá trị là các đối số được truyền cho hàm Python bên dưới."
   ]
  },
  {
   "cell_type": "code",
   "execution_count": 19,
   "metadata": {},
   "outputs": [
    {
     "data": {
      "application/vnd.jupyter.widget-view+json": {
       "model_id": "9ea1850673e44d72a697784fe19a07e2",
       "version_major": 2,
       "version_minor": 0
      },
      "text/plain": [
       "interactive(children=(Dropdown(description='x', options={'one': 10, 'two': 20}, value=10), Output()), _dom_cla…"
      ]
     },
     "metadata": {},
     "output_type": "display_data"
    }
   ],
   "source": [
    "interact(f, x={'one': 10, 'two': 20});"
   ]
  },
  {
   "cell_type": "markdown",
   "metadata": {},
   "source": [
    "## Using function annotations with `interact`  - Sử dụng chú thích hàm với tương tác"
   ]
  },
  {
   "cell_type": "markdown",
   "metadata": {},
   "source": [
    "Bạn cũng có thể chỉ định các chữ viết tắt (abbreviations) của widget bằng cách sử dụng [function annotations](https://docs.python.org/3/tutorial/controlflow.html#function-annotations).\n",
    "\n",
    "Xác định một hàm bằng chữ viết tắt (abbreviation) của checkbox widget cho đối số `x`."
   ]
  },
  {
   "cell_type": "code",
   "execution_count": 22,
   "metadata": {},
   "outputs": [],
   "source": [
    "def f(x:True):  # Python 3 only\n",
    "    return x"
   ]
  },
  {
   "cell_type": "markdown",
   "metadata": {},
   "source": [
    "Sau đó, vì chữ viết tắt của tiện ích con (widget abbreviation) đã được xác định, bạn có thể gọi `interact` với một đối số duy nhất."
   ]
  },
  {
   "cell_type": "code",
   "execution_count": 23,
   "metadata": {},
   "outputs": [
    {
     "data": {
      "application/vnd.jupyter.widget-view+json": {
       "model_id": "431532e2f37d45ea81bb6ad7d4ddfc49",
       "version_major": 2,
       "version_minor": 0
      },
      "text/plain": [
       "interactive(children=(Checkbox(value=True, description='x'), Output()), _dom_classes=('widget-interact',))"
      ]
     },
     "metadata": {},
     "output_type": "display_data"
    }
   ],
   "source": [
    "interact(f);"
   ]
  },
  {
   "cell_type": "markdown",
   "metadata": {},
   "source": [
    "## interactive"
   ]
  },
  {
   "cell_type": "markdown",
   "metadata": {},
   "source": [
    "Ngoài chức năng `interact`, IPython cung cấp một chức năng khác, `interactive`, hữu ích khi bạn muốn sử dụng lại các widget được tạo ra hoặc truy cập dữ liệu được liên kết với các điều khiển giao diện người dùng.\n",
    "\n",
    "Lưu ý rằng không giống như `interact`, giá trị trả về của hàm sẽ không được hiển thị tự động, nhưng bạn có thể hiển thị giá trị bên trong hàm với `IPython.display.display`.\n",
    "\n",
    "Đây là một hàm trả về tổng của hai đối số của nó và hiển thị chúng. Dòng hiển thị có thể bị bỏ qua nếu bạn không muốn hiển thị kết quả của hàm."
   ]
  },
  {
   "cell_type": "code",
   "execution_count": 24,
   "metadata": {},
   "outputs": [],
   "source": [
    "from IPython.display import display\n",
    "\n",
    "def f(a, b):\n",
    "    display(a + b)\n",
    "    return a+b"
   ]
  },
  {
   "cell_type": "markdown",
   "metadata": {},
   "source": [
    "Không giống như `interact`, `interactive` trả về 1 cá thể `Widget` hơn là hiển thị widget ngay lập tức."
   ]
  },
  {
   "cell_type": "code",
   "execution_count": 25,
   "metadata": {},
   "outputs": [],
   "source": [
    "w = interactive(f, a=10, b=20)"
   ]
  },
  {
   "cell_type": "markdown",
   "metadata": {},
   "source": [
    "Widget là một `interactive` (tương tác), một lớp con của `VBox`, là một vùng chứa cho các widget khác."
   ]
  },
  {
   "cell_type": "code",
   "execution_count": 26,
   "metadata": {},
   "outputs": [
    {
     "data": {
      "text/plain": [
       "ipywidgets.widgets.interaction.interactive"
      ]
     },
     "execution_count": 26,
     "metadata": {},
     "output_type": "execute_result"
    }
   ],
   "source": [
    "type(w)"
   ]
  },
  {
   "cell_type": "markdown",
   "metadata": {},
   "source": [
    "Con của `interactive` là hai thanh trượt có giá trị số nguyên và một widget đầu ra, được tạo ra bởi các widget abbreviations ở trên."
   ]
  },
  {
   "cell_type": "code",
   "execution_count": 27,
   "metadata": {},
   "outputs": [
    {
     "data": {
      "text/plain": [
       "(IntSlider(value=10, description='a', max=30, min=-10),\n",
       " IntSlider(value=20, description='b', max=60, min=-20),\n",
       " Output())"
      ]
     },
     "execution_count": 27,
     "metadata": {},
     "output_type": "execute_result"
    }
   ],
   "source": [
    "w.children"
   ]
  },
  {
   "cell_type": "markdown",
   "metadata": {},
   "source": [
    "Để thực sự hiển thị các widget, bạn có thể sử dụng chức năng `display` của IPython."
   ]
  },
  {
   "cell_type": "code",
   "execution_count": 29,
   "metadata": {},
   "outputs": [
    {
     "data": {
      "application/vnd.jupyter.widget-view+json": {
       "model_id": "9b5e6ed54d3e42d58211802ef14842e3",
       "version_major": 2,
       "version_minor": 0
      },
      "text/plain": [
       "interactive(children=(IntSlider(value=10, description='a', max=30, min=-10), IntSlider(value=20, description='…"
      ]
     },
     "metadata": {},
     "output_type": "display_data"
    }
   ],
   "source": [
    "display(w)"
   ]
  },
  {
   "cell_type": "markdown",
   "metadata": {},
   "source": [
    "Tại thời điểm này, các điều khiển giao diện người dùng hoạt động giống như chúng sẽ hoạt động nếu `interact` đã được sử dụng. Bạn có thể thao tác chúng một cách tương tác và hàm sẽ được gọi. Tuy nhiên, trường hợp widget instance được trả về bởi `interactive` cũng cung cấp cho bạn quyền truy cập vào các keyword arguments hiện tại và trả về giá trị của hàm Python underlying.\n",
    "\n",
    "Đây là các keyword arguments hiện tại. Nếu bạn chạy lại ô này sau khi thao tác với các thanh trượt, các giá trị sẽ thay đổi."
   ]
  },
  {
   "cell_type": "code",
   "execution_count": 30,
   "metadata": {},
   "outputs": [
    {
     "data": {
      "text/plain": [
       "{'a': 10, 'b': 22}"
      ]
     },
     "execution_count": 30,
     "metadata": {},
     "output_type": "execute_result"
    }
   ],
   "source": [
    "w.kwargs"
   ]
  },
  {
   "cell_type": "markdown",
   "metadata": {},
   "source": [
    "Đây là giá trị trả về hiện tại của hàm."
   ]
  },
  {
   "cell_type": "code",
   "execution_count": 31,
   "metadata": {},
   "outputs": [
    {
     "data": {
      "text/plain": [
       "32"
      ]
     },
     "execution_count": 31,
     "metadata": {},
     "output_type": "execute_result"
    }
   ],
   "source": [
    "w.result"
   ]
  },
  {
   "cell_type": "markdown",
   "metadata": {},
   "source": [
    "# Conclusion\n",
    "\n",
    "Bây giờ bạn sẽ có hiểu biết cơ bản về cách sử dụng Interact trong Jupyter Notebooks!"
   ]
  },
  {
   "cell_type": "code",
   "execution_count": null,
   "metadata": {},
   "outputs": [],
   "source": []
  }
 ],
 "metadata": {
  "kernelspec": {
   "display_name": "Python 3",
   "language": "python",
   "name": "python3"
  },
  "language_info": {
   "codemirror_mode": {
    "name": "ipython",
    "version": 3
   },
   "file_extension": ".py",
   "mimetype": "text/x-python",
   "name": "python",
   "nbconvert_exporter": "python",
   "pygments_lexer": "ipython3",
   "version": "3.8.5"
  }
 },
 "nbformat": 4,
 "nbformat_minor": 1
}
