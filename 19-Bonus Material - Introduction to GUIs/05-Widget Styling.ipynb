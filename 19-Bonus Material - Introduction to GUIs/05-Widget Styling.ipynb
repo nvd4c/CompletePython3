{
 "cells": [
  {
   "cell_type": "markdown",
   "metadata": {},
   "source": [
    "# Widget Styling\n",
    "\n",
    "In this lecture we will learn about the various ways to style widgets!"
   ]
  },
  {
   "cell_type": "markdown",
   "metadata": {},
   "source": [
    "## `style` vs. `layout`\n",
    "\n",
    "Có hai cách để thay đổi giao diện của các widget trong trình duyệt. Đầu tiên là thông qua thuộc tính `layout` hiển thị các thuộc tính CSS liên quan đến bố cục cho phần tử DOM cấp cao nhất của widget, chẳng hạn như lề và vị trí. Thứ hai là thông qua thuộc tính `style` hiển thị các thuộc tính không liên quan đến bố cục như màu nút và độ đậm phông chữ. Trong khi `layout` là chung cho tất cả các widget và vùng chứa các widget, thì` style` cung cấp các công cụ cụ thể cho từng loại widget.\n",
    "\n",
    "Sự hiểu biết thấu đáo về tất cả những gì mà `layout` phải cung cấp đòi hỏi kiến ​​thức về phát triển web front-end, bao gồm cả HTML và CSS. Phần này cung cấp một cái nhìn tổng quan ngắn gọn về những thứ có thể được điều chỉnh bằng cách sử dụng `layout`. Tuy nhiên, bộ công cụ đầy đủ được cung cấp trong notebook riêng **Advanced Widget Styling with Layout**.\n",
    "\n",
    "Để tìm hiểu thêm về phát triển web, bao gồm HTML và CSS, hãy xem khóa học [\n",
    "Python và Django Full Stack Web Developer Bootcamp] (https://www.udemy.com/python-and-django-full-stack-web-developer-bootcamp/)\n",
    "\n",
    "Kiểu cơ bản trực quan hơn vì nó liên quan trực tiếp đến từng loại widget. Ở đây, chúng tôi cung cấp một tập hợp các ví dụ hữu ích về thuộc tính `style`.\n"
   ]
  },
  {
   "cell_type": "markdown",
   "metadata": {},
   "source": [
    "## The `layout` attribute\n",
    "\n",
    "Các widget tương tác của Jupyter có thuộc tính `layout` thể hiện một số thuộc tính CSS ảnh hưởng đến cách bố trí các widget. Các thuộc tính này ánh xạ tới các giá trị của thuộc tính CSS cùng tên (dấu gạch dưới được thay thế bằng dấu gạch ngang), được áp dụng cho các phần tử DOM trên cùng của widget tương ứng.\n",
    "#### Sizes\n",
    "* `height`\n",
    "* `width`\n",
    "* `max_height`\n",
    "* `max_width`\n",
    "* `min_height`\n",
    "* `min_width`\n",
    "\n",
    "#### Display\n",
    "* `visibility`\n",
    "* `display`\n",
    "* `overflow`\n",
    "* `overflow_x`\n",
    "* `overflow_y`\n",
    "\n",
    "#### Box model\n",
    "* `border`\n",
    "* `margin`\n",
    "* `padding`\n",
    "\n",
    "#### Positioning\n",
    "* `top`\n",
    "* `left`\n",
    "* `bottom`\n",
    "* `right`\n",
    "\n",
    "#### Flexbox\n",
    "* `order`\n",
    "* `flex_flow`\n",
    "* `align_items`\n",
    "* `flex`\n",
    "* `align_self`\n",
    "* `align_content`\n",
    "* `justify_content`"
   ]
  },
  {
   "cell_type": "markdown",
   "metadata": {},
   "source": [
    "## A quick example of `layout`\n",
    "\n",
    "Chúng tôi đã thấy thanh trượt trông như thế nào mà không cần bất kỳ điều chỉnh bố cục nào:"
   ]
  },
  {
   "cell_type": "code",
   "execution_count": 1,
   "metadata": {},
   "outputs": [
    {
     "data": {
      "application/vnd.jupyter.widget-view+json": {
       "model_id": "45f4fcea653a489ab5791c802d83a010",
       "version_major": 2,
       "version_minor": 0
      },
      "text/plain": [
       "IntSlider(value=0)"
      ]
     },
     "metadata": {},
     "output_type": "display_data"
    }
   ],
   "source": [
    "import ipywidgets as widgets\n",
    "from IPython.display import display\n",
    "\n",
    "w = widgets.IntSlider()\n",
    "display(w)"
   ]
  },
  {
   "cell_type": "markdown",
   "metadata": {},
   "source": [
    "Giả sử chúng tôi muốn thay đổi hai thuộc tính của 2 widget này: `margin` và` height`. Chúng tôi muốn căn giữa thanh trượt trong khu vực đầu ra và tăng chiều cao của nó. Điều này có thể được thực hiện bằng cách thêm thuộc tính `layout` vào **w**"
   ]
  },
  {
   "cell_type": "code",
   "execution_count": 2,
   "metadata": {},
   "outputs": [],
   "source": [
    "w.layout.margin = 'auto'\n",
    "w.layout.height = '75px'"
   ]
  },
  {
   "cell_type": "markdown",
   "metadata": {},
   "source": [
    "Lưu ý rằng thanh trượt đã thay đổi vị trí trên trang ngay lập tức!\n",
    "\n",
    "\n",
    "Cài đặt bố cục có thể được chuyển từ widget này sang widget khác cùng loại. Đầu tiên, hãy tạo một IntSlider mới:"
   ]
  },
  {
   "cell_type": "code",
   "execution_count": 3,
   "metadata": {},
   "outputs": [
    {
     "data": {
      "application/vnd.jupyter.widget-view+json": {
       "model_id": "0d7f2e4226724350bddc02b30e7c120f",
       "version_major": 2,
       "version_minor": 0
      },
      "text/plain": [
       "IntSlider(value=15, description='New slider')"
      ]
     },
     "metadata": {},
     "output_type": "display_data"
    }
   ],
   "source": [
    "x = widgets.IntSlider(value=15,description='New slider')\n",
    "display(x)"
   ]
  },
  {
   "cell_type": "markdown",
   "metadata": {},
   "source": [
    "Bây giờ chỉ định cài đặt layout của **w** cho **x**:"
   ]
  },
  {
   "cell_type": "code",
   "execution_count": 4,
   "metadata": {},
   "outputs": [],
   "source": [
    "x.layout = w.layout"
   ]
  },
  {
   "cell_type": "markdown",
   "metadata": {},
   "source": [
    "Đó là nó! Để có bộ hướng dẫn đầy đủ về cách sử dụng `layout`, hãy truy cập notetbook **Advanced Widget Styling - Layout**."
   ]
  },
  {
   "cell_type": "markdown",
   "metadata": {},
   "source": [
    "## Predefined styles\n",
    "\n",
    "\n",
    "Trước khi chúng tôi điều tra thuộc tính `style`, cần lưu ý rằng nhiều widget cung cấp danh sách các kiểu được xác định trước có thể được truyền vào làm đối số trong quá trình tạo.\n",
    "\n",
    "Ví dụ: widget `Button` có thuộc tính` button_style` có thể nhận 5 giá trị khác nhau:\n",
    "\n",
    "* `'primary'`\n",
    "* `'success'`\n",
    "* `'info'`\n",
    "* `'warning'`\n",
    "* `'danger'`\n",
    "\n",
    "bên cạnh chuỗi trống mặc định `''`."
   ]
  },
  {
   "cell_type": "code",
   "execution_count": 5,
   "metadata": {},
   "outputs": [
    {
     "data": {
      "application/vnd.jupyter.widget-view+json": {
       "model_id": "fb866fc86c7d4c2fb1ea32dd5b694df4",
       "version_major": 2,
       "version_minor": 0
      },
      "text/plain": [
       "Button(description='Ordinary Button', style=ButtonStyle())"
      ]
     },
     "metadata": {},
     "output_type": "display_data"
    }
   ],
   "source": [
    "import ipywidgets as widgets\n",
    "\n",
    "widgets.Button(description='Ordinary Button', button_style='')"
   ]
  },
  {
   "cell_type": "code",
   "execution_count": 6,
   "metadata": {},
   "outputs": [
    {
     "data": {
      "application/vnd.jupyter.widget-view+json": {
       "model_id": "0c97108f8ef943068c22b4ef7d6d5357",
       "version_major": 2,
       "version_minor": 0
      },
      "text/plain": [
       "Button(button_style='danger', description='Danger Button', style=ButtonStyle())"
      ]
     },
     "metadata": {},
     "output_type": "display_data"
    }
   ],
   "source": [
    "widgets.Button(description='Danger Button', button_style='danger')"
   ]
  },
  {
   "cell_type": "markdown",
   "metadata": {},
   "source": [
    "## The `style` attribute"
   ]
  },
  {
   "cell_type": "markdown",
   "metadata": {},
   "source": [
    "Mặc dù thuộc tính `layout` chỉ hiển thị các thuộc tính CSS liên quan đến bố cục cho phần tử DOM cấp cao nhất của widget,\n",
    "Thuộc tính `style` được sử dụng để hiển thị các thuộc tính kiểu dáng không liên quan đến bố cục của các widget.\n",
    "\n",
    "Tuy nhiên, các thuộc tính của thuộc tính `style` dành riêng cho từng loại widget."
   ]
  },
  {
   "cell_type": "code",
   "execution_count": 7,
   "metadata": {},
   "outputs": [
    {
     "data": {
      "application/vnd.jupyter.widget-view+json": {
       "model_id": "41a53e4b33f5475a98e30aa124c954f8",
       "version_major": 2,
       "version_minor": 0
      },
      "text/plain": [
       "Button(description='Custom color', style=ButtonStyle(button_color='lightgreen'))"
      ]
     },
     "metadata": {},
     "output_type": "display_data"
    }
   ],
   "source": [
    "b1 = widgets.Button(description='Custom color')\n",
    "b1.style.button_color = 'lightgreen'\n",
    "b1"
   ]
  },
  {
   "cell_type": "markdown",
   "metadata": {},
   "source": [
    "Bạn có thể nhận danh sách các thuộc tính kiểu cho widget bằng thuộc tính `key`."
   ]
  },
  {
   "cell_type": "code",
   "execution_count": 8,
   "metadata": {},
   "outputs": [
    {
     "data": {
      "text/plain": [
       "['_model_module',\n",
       " '_model_module_version',\n",
       " '_model_name',\n",
       " '_view_count',\n",
       " '_view_module',\n",
       " '_view_module_version',\n",
       " '_view_name',\n",
       " 'button_color',\n",
       " 'font_weight']"
      ]
     },
     "execution_count": 8,
     "metadata": {},
     "output_type": "execute_result"
    }
   ],
   "source": [
    "b1.style.keys"
   ]
  },
  {
   "cell_type": "markdown",
   "metadata": {},
   "source": [
    "Note that `widgets.Button().style.keys` also works."
   ]
  },
  {
   "cell_type": "markdown",
   "metadata": {},
   "source": [
    "Cũng giống như thuộc tính `layout`, các styles widget có thể được gán cho các widget khác."
   ]
  },
  {
   "cell_type": "code",
   "execution_count": null,
   "metadata": {},
   "outputs": [],
   "source": [
    "b2 = widgets.Button()\n",
    "b2.style = b1.style\n",
    "b2"
   ]
  },
  {
   "cell_type": "markdown",
   "metadata": {},
   "source": [
    "Lưu ý rằng chỉ có style được chọn bởi **b2**, không phải bất kỳ tham số nào khác như `mô tả`."
   ]
  },
  {
   "cell_type": "markdown",
   "metadata": {},
   "source": [
    "Các thuộc tính styling widget cụ thể cho từng loại widget."
   ]
  },
  {
   "cell_type": "code",
   "execution_count": null,
   "metadata": {},
   "outputs": [],
   "source": [
    "s1 = widgets.IntSlider(description='Blue handle')\n",
    "s1.style.handle_color = 'lightblue'\n",
    "s1"
   ]
  },
  {
   "cell_type": "markdown",
   "metadata": {},
   "source": [
    "## Widget style traits\n",
    "\n",
    "Đây là những đặc điểm thuộc về một số widget phổ biến hơn:\n",
    "\n",
    "#### Button\n",
    "\n",
    "- `button_color`\n",
    "- `font_weight`\n",
    "\n",
    "#### IntSlider, FloatSlider, IntRangeSlider, FloatRangeSlider\n",
    "\n",
    "- `description_width`\n",
    "- `handle_color`\n",
    "\n",
    "#### IntProgress, FloatProgress\n",
    "\n",
    "- `bar_color`\n",
    "- `description_width`\n",
    "\n",
    "Hầu hết các cái khác như  `ToggleButton`, `Checkbox`, `Dropdown`, `RadioButtons`, `Select` and `Text` chỉ có `description_width` là một đặc điểm có thể điều chỉnh được."
   ]
  },
  {
   "cell_type": "markdown",
   "metadata": {},
   "source": [
    "# Conclusion\n",
    "\n",
    "You should now have an understanding of how to style widgets!"
   ]
  }
 ],
 "metadata": {
  "cell_tags": [
   [
    "<None>",
    null
   ]
  ],
  "kernelspec": {
   "display_name": "Python 3",
   "language": "python",
   "name": "python3"
  },
  "language_info": {
   "codemirror_mode": {
    "name": "ipython",
    "version": 3
   },
   "file_extension": ".py",
   "mimetype": "text/x-python",
   "name": "python",
   "nbconvert_exporter": "python",
   "pygments_lexer": "ipython3",
   "version": "3.8.5"
  }
 },
 "nbformat": 4,
 "nbformat_minor": 1
}
