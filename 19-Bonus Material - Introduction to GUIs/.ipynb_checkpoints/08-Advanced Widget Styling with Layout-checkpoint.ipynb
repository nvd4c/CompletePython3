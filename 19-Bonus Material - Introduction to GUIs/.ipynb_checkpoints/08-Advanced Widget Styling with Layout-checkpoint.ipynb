{
 "cells": [
  {
   "cell_type": "markdown",
   "metadata": {},
   "source": [
    "# Advanced Widget Styling with Layout\n",
    "\n",
    "notebooknày mở rộng bài giảng notebook bằng cách mô tả các điều chỉnh HTML và CSS khác nhau có thể được thực hiện thông qua thuộc tính `layout`."
   ]
  },
  {
   "cell_type": "markdown",
   "metadata": {},
   "source": [
    "## The `layout` attribute\n",
    "upyter interactive widgets có thuộc tính `layout` thể hiện một số thuộc tính CSS ảnh hưởng đến cách bố trí các widget.\n",
    "\n",
    "### Exposed CSS properties\n",
    "<div class=\"alert alert-info\" style=\"margin: 20px\">Các thuộc tính sau ánh xạ đến các giá trị của thuộc tính CSS cùng tên (dấu gạch dưới được thay thế bằng dấu gạch ngang), được áp dụng cho các phần tử DOM trên cùng của tiện ích con tương ứng.</div>\n",
    "\n",
    "#### Sizes\n",
    "* `height`\n",
    "* `width`\n",
    "* `max_height`\n",
    "* `max_width`\n",
    "* `min_height`\n",
    "* `min_width`\n",
    "\n",
    "#### Display\n",
    "* `visibility`\n",
    "* `display`\n",
    "* `overflow`\n",
    "* `overflow_x`\n",
    "* `overflow_y`\n",
    "\n",
    "#### Box model\n",
    "* `border`\n",
    "* `margin`\n",
    "* `padding`\n",
    "\n",
    "#### Positioning\n",
    "* `top`\n",
    "* `left`\n",
    "* `bottom`\n",
    "* `right`\n",
    "\n",
    "#### Flexbox\n",
    "* `order`\n",
    "* `flex_flow`\n",
    "* `align_items`\n",
    "* `flex`\n",
    "* `align_self`\n",
    "* `align_content`\n",
    "* `justify_content`\n",
    "\n",
    "### Shorthand CSS properties\n",
    "\n",
    "Bạn có thể nhận thấy rằng các thuộc tính CSS nhất định như `margin-[top/right/bottom/left]` dường như bị thiếu. Điều tương tự đối với `padding-[top/right/bottom/left]`, v.v.\n",
    "\n",
    "Trên thực tế, bạn có thể chỉ định lề `[top/right/bottom/left]` thông qua thuộc tính `margin` bằng cách truyền vào chuỗi\n",
    "`'100px 150px 100px 80px'` tương ứng cho lề `top`, `right`, `bottom` and `left` của `100`, `150`, `100` and `80` pixel.\n",
    "\n",
    "Tương tự, thuộc tính `flex` có thể giữ các giá trị cho `flex-grow`, `flex-shrink` and `flex-basis`. Thuộc tính `border` là thuộc tính viết tắt cho `border-width`, `border-style (required)`, and `border-color`."
   ]
  },
  {
   "cell_type": "code",
   "execution_count": 1,
   "metadata": {},
   "outputs": [],
   "source": [
    "import ipywidgets as widgets\n",
    "from IPython.display import display"
   ]
  },
  {
   "cell_type": "markdown",
   "metadata": {},
   "source": [
    "# Conclusion\n",
    "\n",
    "Bây giờ bạn sẽ có hiểu biết về cách tạo kiểu cho các widget!"
   ]
  },
  {
   "cell_type": "code",
   "execution_count": null,
   "metadata": {},
   "outputs": [],
   "source": []
  }
 ],
 "metadata": {
  "cell_tags": [
   [
    "<None>",
    null
   ]
  ],
  "kernelspec": {
   "display_name": "Python 3",
   "language": "python",
   "name": "python3"
  },
  "language_info": {
   "codemirror_mode": {
    "name": "ipython",
    "version": 3
   },
   "file_extension": ".py",
   "mimetype": "text/x-python",
   "name": "python",
   "nbconvert_exporter": "python",
   "pygments_lexer": "ipython3",
   "version": "3.8.5"
  }
 },
 "nbformat": 4,
 "nbformat_minor": 1
}
